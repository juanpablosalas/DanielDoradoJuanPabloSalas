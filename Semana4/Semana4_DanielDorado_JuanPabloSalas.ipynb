{
 "cells": [
  {
   "cell_type": "markdown",
   "id": "48b3d6ed-76b4-4338-ba6a-98b6206383c4",
   "metadata": {},
   "source": [
    "# Cálculo de trayectoria para nave exploratoria lunar"
   ]
  },
  {
   "cell_type": "code",
   "execution_count": 1,
   "id": "4621cc1e-e5f3-4af4-a269-2fbc46bb29e5",
   "metadata": {},
   "outputs": [],
   "source": [
    "import numpy as np\n",
    "import matplotlib.pyplot as plt\n",
    "from matplotlib import animation\n",
    "from scipy import integrate"
   ]
  },
  {
   "cell_type": "markdown",
   "id": "99d2227f",
   "metadata": {},
   "source": [
    "**a)** Vamos a suponer la Tierra inmóvil y la Luna siguiendo una órbita circular cuya frecuencia angular es $\\omega = 2.6617×10^{−6} s^{-1}$. Esto evita integrar la ecuación de la Luna, la cuál es en realidad elíptica."
   ]
  },
  {
   "cell_type": "code",
   "execution_count": null,
   "id": "19933109",
   "metadata": {},
   "outputs": [],
   "source": [
    "ome = 2.6616e-6 # Frecuencia angular de la órbita lunar"
   ]
  },
  {
   "cell_type": "markdown",
   "id": "5cb81d88",
   "metadata": {},
   "source": [
    "**b)** La simulación será realizada en el S.I. de unidades que resulta más conveniente en el caso del\n",
    "sistema Tierra-Luna. El paso de integración deben ser segundos de vuelo ($h \\propto s$), pero se debe\n",
    "graficar cada 1000 pasos usando animation dado que el viaje a la Luna dura días terrestres."
   ]
  },
  {
   "cell_type": "code",
   "execution_count": null,
   "id": "ed8ba91a",
   "metadata": {},
   "outputs": [],
   "source": [
    "G = 6.67e-11    # Constante gravitacional\n",
    "MT = 5.9736e+24 # Masa de la Tierra\n",
    "RT = 6.3781e+6  # Radio terrestre\n",
    "ML = 7.349e+22  # Masa de la Luna\n",
    "RL = 1.7374e+6  # Radio de la Lunar\n",
    "d = 3.844e+8    # Distancia Tierra-Luna"
   ]
  },
  {
   "cell_type": "markdown",
   "id": "b1ba4420",
   "metadata": {},
   "source": [
    "**c)** Muestre usando la Figura 1 que la distancia Nave-Luna está dada por:\n",
    "\n",
    "Para esto, se puede usar la ley del coseno. Sea $\\vec{r}(t)$ la posición de la nave, $\\vec{d}$ la posición de la Luna y $\\vec{r}_L = \\vec{r}-\\vec{d}$ la distancia Nave-Luna. Entonces, se tendrá\n",
    "\n",
    "$$ |\\vec{r}_L|^2 = |\\vec{r}|^2 + |\\vec{d}|^2 - 2 \\vec{r}\\cdot \\vec{d} $$\n",
    "$$ |\\vec{r}_L|^2 = |\\vec{r}|^2 + |\\vec{d}|^2 - 2 |\\vec{r}|| \\vec{d}| \\cos \\theta $$\n",
    "\n",
    "donde $\\theta$ es el ángulo entre la posición de la nave y la posición de la Luna, dado por $\\theta = \\phi(t) - \\omega t$. Entonces,\n",
    "\n",
    "$$ r_L = \\sqrt{r^2 + d^2 - 2rd\\cos (\\phi - \\omega t)  } $$"
   ]
  },
  {
   "cell_type": "markdown",
   "id": "c16b157c",
   "metadata": {},
   "source": [
    "**d)** Usando esta distancia muestre que el Hamiltoniano de la nave está dado por:\n",
    "\n",
    "Recordemos que para un sistema de $n$ coordenadas canónicas, el Hamiltoniano está dado por\n",
    "\n",
    "$$ \\mathcal{H}  = \\sum_{i=1}^n p_i \\dot{q}_i - \\mathcal{L} $$\n",
    "\n",
    "A su vez, el Lagrangiano estará dado por \n",
    "\n",
    "$$ \\mathcal{L} = T + V = \\frac{1}{2} m \\dot{r}^2 + \\frac{1}{2}mr^2 \\dot{\\phi}^2  + \\frac{Gmm_T}{r} + \\frac{Gmm_L}{r_L}$$\n",
    "\n",
    "Los momentos generalizados están dados por \n",
    "\n",
    "$$p_r = \\frac{\\partial L}{\\partial \\dot{r}} = m\\dot{r} $$\n",
    "\n",
    "$$p_\\phi = \\frac{\\partial L}{\\partial \\dot{\\phi}} = mr^2\\dot{\\phi} $$\n",
    "\n",
    "Reemplazando, se tendrá entonces un Lagrangiano en función de estos momentos dado por  \n",
    "\n",
    "$$  \\mathcal{L}  = \\frac{p_r^2}{2m} + \\frac{p_\\phi^2}{2mr^2} + \\frac{Gmm_T}{r} + \\frac{Gmm_L}{r_L} $$\n",
    "\n",
    "Y un Hamiltoniano dado por \n",
    "\n",
    "\n",
    "$$ \\mathcal{H}  = p_r \\dot{r} + p_{\\phi}\\dot{\\phi} - \\mathcal{L} $$ \n",
    "$$ \\mathcal{H}  =  \\frac{p_r^2}{m} + \\frac{p_\\phi^2}{mr^2} - \\mathcal{L} $$\n",
    "$$ \\mathcal{H}  =  \\frac{p_r^2}{m} + \\frac{p_\\phi^2}{mr^2} - \\frac{p_r^2}{2m} - \\frac{p_\\phi^2}{2mr^2} - \\frac{Gmm_T}{r} - \\frac{Gmm_L}{r_L} $$\n",
    "$$ \\mathcal{H}  =   \\frac{p_r^2}{2m} + \\frac{p_\\phi^2}{2mr^2} - \\frac{Gmm_T}{r} - \\frac{Gmm_L}{r_L} $$"
   ]
  },
  {
   "cell_type": "markdown",
   "id": "9e8651cf",
   "metadata": {},
   "source": [
    "**e)** Muestre que las ecuaciones de Hamilton, que son las ecuaciones de movimiento están dadas por:\n",
    "\n",
    "Las velocidades generalizadas estarán dadas por \n",
    "\n",
    "$$ \\dot{r} = \\frac{\\partial \\mathcal{H}}{\\partial p_r} = \\frac{2p_r}{2m} = \\frac{p_r}{m} $$\n",
    "$$ \\dot{\\phi} = \\frac{\\partial \\mathcal{H}}{\\partial p_\\phi} = \\frac{2p_\\phi}{2mr^2} = \\frac{p_\\phi}{mr^2} $$\n",
    "\n",
    "A su vez, las derivadas de los momentos generalizados (fuerzas) estarán dadas por\n",
    "\n",
    "$$ \\dot{p}_r = - \\frac{\\partial \\mathcal{H}}{\\partial r} = \\frac{p_\\phi^2}{mr^3}-\\frac{Gmm_T}{r^2} - \\frac{Gmm_L}{r_L^2} \\frac{\\partial r_L}{\\partial r} $$\n",
    "Se tiene además que \n",
    "\n",
    "$$ \\frac{\\partial r_L}{\\partial r}  = \\frac{\\partial}{\\partial r} \\sqrt{r^2 + d^2 - 2rd\\cos (\\phi - \\omega t)  }  = \\frac{1}{2r_L} (2r-2d\\cos (\\phi - \\omega t) = \\frac{r-d\\cos(\\phi - \\omega t)}{r_L}.$$\n",
    "\n",
    "Entonces se tiene \n",
    "\n",
    "$$ \\dot{p}_r = - \\frac{\\partial \\mathcal{H}}{\\partial r} = \\frac{p_\\phi^2}{mr^3} -\\frac{Gmm_T}{r^2} - \\frac{Gmm_L}{r_L^3}(r-d\\cos(\\phi - \\omega t))$$\n",
    "\n",
    "Por el otro lado, para el momento generalizado angular se tiene \n",
    "\n",
    "$$ \\dot{p}_\\phi = - \\frac{\\partial \\mathcal{H}}{\\partial \\phi} = - \\frac{Gmm_L}{r_L^2} \\frac{\\partial r_L}{\\partial \\phi} $$\n",
    "\n",
    "Utilizando la derivada\n",
    "\n",
    "$$ \\frac{\\partial r_L}{\\partial \\phi}  = \\frac{2rd\\sin ( \\phi - \\omega t)}{2r_L} = \\frac{rd \\sin (\\phi - \\omega t)}{r_L} $$\n",
    "\n",
    "En total se tendrá,\n",
    "\n",
    "$$ \\dot{p}_\\phi = - \\frac{\\partial \\mathcal{H}}{\\partial \\phi} = - \\frac{Gmm_L}{r_L^3} rd \\sin (\\phi - \\omega t) $$"
   ]
  },
  {
   "cell_type": "markdown",
   "id": "7d0e989e",
   "metadata": {},
   "source": [
    "**f)** Tenemos que $$\\dot{\\tilde{r}} = \\frac{d}{dt}\\left( \\frac{r}{d}\\right) = \\frac{\\dot{r}}{d} = \\frac{p_r}{md} = \\tilde{p}_r.$$ Por otro lado, $$\\dot{\\phi} = \\frac{p_{\\phi}}{m r^2} = \\frac{p_{\\phi}}{m (\\tilde{r}d)^2} = \\frac{p_{\\phi}}{md^2}\\frac{1}{\\tilde{r}^2} = \\frac{\\tilde{p}_{\\phi}}{\\tilde{r}^2}.$$\n",
    "\n",
    "En cuanto al momento $\\tilde{p}_r$, $$\\dot{\\tilde{p}_r} = \\frac{d}{dt}\\left( \\frac{p_r}{md}\\right) = \\frac{\\dot{p}_r}{md} = \\frac{p_\\phi^2}{m^2r^3 d} -\\frac{Gm_T}{r^2 d} - \\frac{Gm_L}{r_L^3}(\\tilde{r}-\\cos(\\phi - \\omega t)).$$ Recordando que $\\tilde{p}_\\phi = p_\\phi/md$, $$\\frac{p_\\phi^2}{m^2r^3 d} = \\left(\\frac{p_\\phi}{md^2}\\right)^2 \\frac{1}{(r/d)^3} = \\frac{\\tilde{p}_\\phi}{\\tilde{r}^3},$$ se obtiene $$\\dot{\\tilde{p}_r} = \\frac{\\tilde{p}_\\phi}{\\tilde{r}^3} - \\frac{Gm_T}{d^3} \\left\\{ \\frac{1}{(r/d)^2} + \\frac{m_L}{(r_L/d)^3 m_T}[\\tilde{r}-\\cos(\\phi-\\omega t)]\\right\\} = \\frac{\\tilde{p}_\\phi}{\\tilde{r}^3} - \\Delta \\left\\{ \\frac{1}{\\tilde{r}^2} + \\frac{\\mu}{(r_L/d)^3}[\\tilde{r}-\\cos(\\phi-\\omega t)]\\right\\}.$$\n",
    "\n",
    "Observe que $$r_L/d = \\sqrt{1+(r/d)^2-2r\\cos(\\phi-\\omega t)/d} = \\sqrt{1+\\tilde{r}^2-2\\tilde{r}\\cos(\\phi-\\omega t)} = \\tilde{r}'.$$ Esto permite ver que $$\\dot{\\tilde{p}_r} = \\frac{\\tilde{p}_\\phi}{\\tilde{r}^3} - \\Delta \\left\\{ \\frac{1}{\\tilde{r}^2} + \\frac{\\mu}{\\tilde{r}'^3}[\\tilde{r}-\\cos(\\phi-\\omega t)]\\right\\}. $$\n",
    "\n",
    "Finalmente, $$\\dot{\\tilde{p}_\\phi} = \\frac{d}{dt}\\left( \\frac{p_\\phi}{md^2}\\right) = \\frac{\\dot{p}_\\phi}{md^2} = - \\frac{Gm_L}{r_L^3} \\tilde{r} \\sin (\\phi - \\omega t) = - \\frac{G m_T}{d^3}\\frac{m_L}{m_T}\\frac{1}{(r/d)^3} \\tilde{r} \\sin (\\phi - \\omega t) = -\\frac{\\Delta \\mu}{\\tilde{r}'^3} \\tilde{r} \\sin (\\phi - \\omega t).$$"
   ]
  },
  {
   "cell_type": "markdown",
   "id": "7437b897",
   "metadata": {},
   "source": [
    "\n",
    "### Método para resolver la ODE del cohete\n",
    "\n",
    "Para encontrar una solución numérica al problema, usamos el algoritmo de Runge-Kutta de orden 4 (RK4)."
   ]
  },
  {
   "cell_type": "code",
   "execution_count": 2,
   "id": "f3c94ef0-dd48-42da-9ebc-b2b64e1a9250",
   "metadata": {},
   "outputs": [],
   "source": [
    "def RK4 (f, r0, t):\n",
    "    \"\"\"\n",
    "    Implementación del algoritmo de Runge-Kutta de orden 4 para resolver sistemas\n",
    "    de ecuaciones diferenciales.\n",
    "\n",
    "    Args:\n",
    "    f: función de la ED y'=f(t,y)\n",
    "    r0: condición inicial\n",
    "    t: discretización uniformemente espaciada del intervalo temporal.\n",
    "    \"\"\"\n",
    "    h = t[1]-t[0]\n",
    "    y = r0\n",
    "    solution = np.array(r0)\n",
    "\n",
    "    for i in range(1,len(t)):\n",
    "        k1 = f(t[i-1],y)\n",
    "        k2 = f(t[i-1]+0.5*h, y + 0.5*h*k1)\n",
    "        k3 = f(t[i-1]+0.5*h, y + 0.5*h*k2)\n",
    "        k4 = f(t[i-1]+h, y + h*k3)\n",
    "\n",
    "        y += h*(k1+2*k2+2*k3+k4)/6.\n",
    "        solution = np.vstack([solution, y])\n",
    "\n",
    "    return solution"
   ]
  },
  {
   "cell_type": "markdown",
   "id": "fcbcbb05-1cdc-4b33-90ba-32cd1b04849a",
   "metadata": {},
   "source": [
    "### Resolución del problema\n",
    "\n",
    "Primero, se definen las constantes del problema."
   ]
  },
  {
   "cell_type": "code",
   "execution_count": 3,
   "id": "70eeb6fa-bc9e-4677-81e2-ac33b1c57326",
   "metadata": {},
   "outputs": [],
   "source": [
    "G = 6.67e-11    # Constante gravitacional\n",
    "MT = 5.9736e+24 # Masa de la Tierra\n",
    "RT = 6.3781e+6  # Radio terrestre\n",
    "ML = 7.349e+22  # Masa de la Luna\n",
    "RL = 1.7374e+6  # Radio de la Lunar\n",
    "d = 3.844e+8    # Distancia Tierra-Luna\n",
    "ome = 2.6616e-6 # Frecuencia angular de la órbita lunar"
   ]
  },
  {
   "cell_type": "markdown",
   "id": "ea9c3f14-5f35-4972-8132-eb035f963113",
   "metadata": {},
   "source": [
    "La implementación del algoritmo RK4 que hemos desarrollado permite resolver sistemas de ODEs de la forma $$\\mathbf{x}' = f(t,\\mathbf{x}).$$ Solo es necesario definir la función del lado derecho."
   ]
  },
  {
   "cell_type": "code",
   "execution_count": 4,
   "id": "112f18c7-265d-4a53-a46c-fcc62e434a5f",
   "metadata": {},
   "outputs": [],
   "source": [
    "def f(t,x):\n",
    "    \"\"\"\n",
    "    t: tiempo\n",
    "    x: vector de cuatro componentes.\n",
    "    --- x[0]: r/d\n",
    "    --- x[1]: phi\n",
    "    --- x[2]: momento conjugado a x[0]\n",
    "    --- x[3]: momento conjugado a x[1]\n",
    "    \"\"\"\n",
    "    cs = np.cos(x[1]-ome*t)\n",
    "    r_ = np.sqrt(1 + x[0]**2 - 2*x[0]*cs)\n",
    "    Delta = G*MT/(d**3)\n",
    "    mu = ML/MT\n",
    "    d0 = x[2]\n",
    "    d1 = x[3]/ (x[0]**2)\n",
    "    d2 = (x[3]**2) / (x[0])**3 - Delta*(x[0]**(-2) + mu/(r_**3)*(x[0]-cs))\n",
    "    d3 = -Delta*mu*x[0] / (r_**3) *np.sin(x[1]-ome*t)\n",
    "    \n",
    "    return np.array([d0, d1, d2, d3])"
   ]
  },
  {
   "cell_type": "code",
   "execution_count": 5,
   "id": "982abb8b-81a8-4fd8-9fe3-3979577d97f1",
   "metadata": {},
   "outputs": [],
   "source": [
    "def ReduceSolution(solution, k = 1000):\n",
    "    redux = solution[0]\n",
    "    for i, point in enumerate(solution[1:]):\n",
    "        if i%k == 0:\n",
    "            redux = np.vstack([redux, point])\n",
    "            \n",
    "    return redux\n",
    "\n",
    "\n",
    "def ReduceTime(t, k = 1000):\n",
    "    redux = []\n",
    "    \n",
    "    for i, tt in enumerate(t):\n",
    "        if i%k == 0:\n",
    "            redux.append(tt)\n",
    "            \n",
    "    return np.array(redux)"
   ]
  },
  {
   "cell_type": "code",
   "execution_count": 6,
   "id": "50beb72b-ba10-47ba-93c2-a23eb51b6fb8",
   "metadata": {},
   "outputs": [],
   "source": [
    "v0 = 11.2e+3/d\n",
    "theta = np.pi/4\n",
    "phi = np.pi/3.4\n",
    "\n",
    "P_r0 = v0*np.cos(theta-phi)\n",
    "P_phi0 = RT/d * v0 * np.sin(theta-phi)\n",
    "\n",
    "t = np.linspace(0,520000, 520001)\n",
    "r0 = np.array([RT/d, theta, P_r0, P_phi0])"
   ]
  },
  {
   "cell_type": "code",
   "execution_count": 7,
   "id": "f12a448a-08e8-4169-bfe1-4cf56e9a88e0",
   "metadata": {},
   "outputs": [
    {
     "data": {
      "image/png": "[encoded data removed]",
      "text/plain": [
       "<Figure size 360x360 with 1 Axes>"
      ]
     },
     "metadata": {
      "needs_background": "light"
     },
     "output_type": "display_data"
    }
   ],
   "source": [
    "fig, ax = plt.subplots(figsize=(5,5))\n",
    "\n",
    "def init():\n",
    "    ax.set_xlim(-0.15,1.25)\n",
    "    ax.set_ylim(-0.15,1.25)\n",
    "    Earth = plt.Circle((0,0), radius = RT/d)\n",
    "    ax.add_patch(Earth)\n",
    "\n",
    "def update_plot(i):\n",
    "    ax.clear()\n",
    "    init()\n",
    "\n",
    "    point = R_sol[i]\n",
    "\n",
    "    xL = np.cos(ome*R_t[i])\n",
    "    yL = np.sin(ome*R_t[i])\n",
    "\n",
    "    x = point[0]*np.cos(point[1])\n",
    "    y = point[0]*np.sin(point[1])\n",
    "\n",
    "    moon = plt.Circle((xL,yL), fill=True, color='k', radius = 0.01)\n",
    "    ax.add_patch(moon)\n",
    "    ax.scatter(x,y, marker='.', color='paleturquoise')"
   ]
  },
  {
   "cell_type": "code",
   "execution_count": 8,
   "id": "2031bb45-b231-4cc5-95d0-3926b0eb410d",
   "metadata": {},
   "outputs": [],
   "source": [
    "sol = RK4(f, r0, t)"
   ]
  },
  {
   "cell_type": "code",
   "execution_count": 9,
   "id": "85dd7422-b98f-4423-80ba-abe5d6011395",
   "metadata": {},
   "outputs": [],
   "source": [
    "R_sol = ReduceSolution(sol, 1000)\n",
    "R_t = ReduceTime(t, 1000)"
   ]
  },
  {
   "cell_type": "code",
   "execution_count": 10,
   "id": "e2e5a031-82e9-451b-93b9-cbdac91fb2de",
   "metadata": {},
   "outputs": [
    {
     "name": "stderr",
     "output_type": "stream",
     "text": [
      "MovieWriter ffmpeg unavailable; using Pillow instead.\n"
     ]
    }
   ],
   "source": [
    "num_frames = len(R_t)\n",
    "anim = animation.FuncAnimation(fig, update_plot, frames=num_frames)\n",
    "anim.save('moon.gif', fps=30)"
   ]
  },
  {
   "cell_type": "code",
   "execution_count": 11,
   "id": "de82fc3c-704a-4125-8546-63d3cf0ef34f",
   "metadata": {},
   "outputs": [
    {
     "data": {
      "image/png": "[encoded data removed]",
      "text/plain": [
       "<Figure size 432x288 with 1 Axes>"
      ]
     },
     "metadata": {
      "needs_background": "light"
     },
     "output_type": "display_data"
    }
   ],
   "source": [
    "xN = R_sol[:,0]*np.cos(R_sol[:,1])\n",
    "yN = R_sol[:,0]*np.sin(R_sol[:,1])\n",
    "\n",
    "plt.scatter(xN, yN)\n",
    "plt.show()"
   ]
  },
  {
   "cell_type": "code",
   "execution_count": null,
   "id": "9ccb90f1-17f9-4fd0-9c48-c7062aac26f7",
   "metadata": {},
   "outputs": [],
   "source": []
  }
 ],
 "metadata": {
  "kernelspec": {
   "display_name": "Python 3 (ipykernel)",
   "language": "python",
   "name": "python3"
  },
  "language_info": {
   "codemirror_mode": {
    "name": "ipython",
    "version": 3
   },
   "file_extension": ".py",
   "mimetype": "text/x-python",
   "name": "python",
   "nbconvert_exporter": "python",
   "pygments_lexer": "ipython3",
   "version": "3.8.11"
  }
 },
 "nbformat": 4,
 "nbformat_minor": 5
}
