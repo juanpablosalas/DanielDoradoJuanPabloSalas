{
 "cells": [
  {
   "cell_type": "code",
   "execution_count": 1,
   "id": "4621cc1e-e5f3-4af4-a269-2fbc46bb29e5",
   "metadata": {},
   "outputs": [],
   "source": [
    "import numpy as np\n",
    "import matplotlib.pyplot as plt\n",
    "from scipy import integrate"
   ]
  },
  {
   "cell_type": "code",
   "execution_count": null,
   "id": "f3c94ef0-dd48-42da-9ebc-b2b64e1a9250",
   "metadata": {},
   "outputs": [],
   "source": [
    "def RK4 (f, r0, t):\n",
    "    \"\"\"\n",
    "    Implementación del algoritmo de Runge-Kutta de orden 4 para resolver sistemas\n",
    "    de ecuaciones diferenciales.\n",
    "\n",
    "    Args:\n",
    "    f: función de la ED y'=f(t,y)\n",
    "    r0: condición inicial\n",
    "    t: discretización uniformemente espaciada del intervalo temporal.\n",
    "    \"\"\"\n",
    "    h = t[1]-t[0]\n",
    "    y = r0\n",
    "    solution = np.array(r0)\n",
    "\n",
    "    for i in range(1,len(t)):\n",
    "        k1 = f(t[i-1],y)\n",
    "        k2 = f(t[i-1]+0.5*h, y + 0.5*h*k1)\n",
    "        k3 = f(t[i-1]+0.5*h, y + 0.5*h*k2)\n",
    "        k4 = f(t[i-1]+h, y + h*k3)\n",
    "\n",
    "        y += h*(k1+2*k2+2*k3+k4)/6.\n",
    "        solution = np.vstack([solution, y])\n",
    "\n",
    "    return solution"
   ]
  }
 ],
 "metadata": {
  "kernelspec": {
   "display_name": "Python 3 (ipykernel)",
   "language": "python",
   "name": "python3"
  },
  "language_info": {
   "codemirror_mode": {
    "name": "ipython",
    "version": 3
   },
   "file_extension": ".py",
   "mimetype": "text/x-python",
   "name": "python",
   "nbconvert_exporter": "python",
   "pygments_lexer": "ipython3",
   "version": "3.8.11"
  }
 },
 "nbformat": 4,
 "nbformat_minor": 5
}
