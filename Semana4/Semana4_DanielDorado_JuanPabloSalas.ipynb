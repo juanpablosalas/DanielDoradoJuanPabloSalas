{
 "cells": [
  {
   "cell_type": "markdown",
   "id": "48b3d6ed-76b4-4338-ba6a-98b6206383c4",
   "metadata": {},
   "source": [
    "# Cálculo de trayectoria para nave exploratoria lunar"
   ]
  },
  {
   "cell_type": "code",
   "execution_count": 13,
   "id": "4621cc1e-e5f3-4af4-a269-2fbc46bb29e5",
   "metadata": {},
   "outputs": [],
   "source": [
    "import numpy as np\n",
    "import matplotlib.pyplot as plt\n",
    "from scipy import integrate"
   ]
  },
  {
   "cell_type": "markdown",
   "id": "af0af1c3",
   "metadata": {},
   "source": [
    "**a)** Vamos a suponer la Tierra inmóvil y la Luna siguiendo una órbita circular cuya frecuencia angular es $\\omega = 2.6617×10^{−6} s^{-1}$. Esto evita integrar la ecuación de la Luna, la cuál es en realidad elíptica."
   ]
  },
  {
   "cell_type": "code",
   "execution_count": 14,
   "id": "95225fa7",
   "metadata": {},
   "outputs": [],
   "source": [
    "ome = 2.6616e-6 # Frecuencia angular de la órbita lunar"
   ]
  },
  {
   "cell_type": "markdown",
   "id": "15b8c60f",
   "metadata": {},
   "source": [
    "**b)** La simulación será realizada en el S.I. de unidades que resulta más conveniente en el caso del\n",
    "sistema Tierra-Luna. El paso de integración deben ser segundos de vuelo ($h \\propto s$), pero se debe\n",
    "graficar cada 1000 pasos usando animation dado que el viaje a la Luna dura días terrestres."
   ]
  },
  {
   "cell_type": "code",
   "execution_count": 15,
   "id": "eaf7d471",
   "metadata": {},
   "outputs": [],
   "source": [
    "G = 6.67e-11    # Constante gravitacional\n",
    "MT = 5.9736e+24 # Masa de la Tierra\n",
    "RT = 6.3781e+6  # Radio terrestre\n",
    "ML = 7.349e+22  # Masa de la Luna\n",
    "RL = 1.7374e+6  # Radio de la Lunar\n",
    "d = 3.844e+8    # Distancia Tierra-Luna"
   ]
  },
  {
   "cell_type": "markdown",
   "id": "9666922e",
   "metadata": {},
   "source": [
    "**c)** Muestre usando la Figura 1 que la distancia Nave-Luna está dada por:\n",
    "\n",
    "Para esto, se puede usar la ley del coseno. Sea $\\vec{r}(t)$ la posición de la nave, $\\vec{d}$ la posición de la Luna y $\\vec{r}_L = \\vec{r}-\\vec{d}$ la distancia Nave-Luna. Entonces, se tendrá\n",
    "\n",
    "$$ |\\vec{r}_L|^2 = |\\vec{r}|^2 + |\\vec{d}|^2 - 2 \\vec{r}\\cdot \\vec{d} $$\n",
    "$$ |\\vec{r}_L|^2 = |\\vec{r}|^2 + |\\vec{d}|^2 - 2 |\\vec{r}|| \\vec{d}| \\cos \\theta $$\n",
    "\n",
    "donde $\\theta$ es el ángulo entre la posición de la nave y la posición de la Luna, dado por $\\theta = \\phi(t) - \\omega t$. Entonces,\n",
    "\n",
    "$$ r_L = \\sqrt{r^2 + d^2 - 2rd\\cos (\\phi - \\omega t)  } $$"
   ]
  },
  {
   "cell_type": "markdown",
   "id": "7c330e2c",
   "metadata": {},
   "source": [
    "**d)** Usando esta distancia muestre que el Hamiltoniano de la nave está dado por:\n",
    "\n",
    "Recordemos que para un sistema de $n$ coordenadas canónicas, el Hamiltoniano está dado por\n",
    "\n",
    "$$ \\mathcal{H}  = \\sum_{i=1}^n p_i \\dot{q}_i - \\mathcal{L} $$\n",
    "\n",
    "A su vez, el Lagrangiano estará dado por \n",
    "\n",
    "$$ \\mathcal{L} = T + V = \\frac{1}{2} m \\dot{r}^2 + \\frac{1}{2}mr^2 \\dot{\\phi}^2  + \\frac{Gmm_T}{r} + \\frac{Gmm_L}{r_L}$$\n",
    "\n",
    "Los momentos generalizados están dados por \n",
    "\n",
    "$$p_r = \\frac{\\partial L}{\\partial \\dot{r}} = m\\dot{r} $$\n",
    "\n",
    "$$p_\\phi = \\frac{\\partial L}{\\partial \\dot{\\phi}} = mr^2\\dot{\\phi} $$\n",
    "\n",
    "Reemplazando, se tendrá entonces un Lagrangiano en función de estos momentos dado por  \n",
    "\n",
    "$$  \\mathcal{L}  = \\frac{p_r^2}{2m} + \\frac{p_\\phi^2}{2mr^2} + \\frac{Gmm_T}{r} + \\frac{Gmm_L}{r_L} $$\n",
    "\n",
    "Y un Hamiltoniano dado por \n",
    "\n",
    "\n",
    "$$ \\mathcal{H}  = p_r \\dot{r} + p_{\\phi}\\dot{\\phi} - \\mathcal{L} $$ \n",
    "$$ \\mathcal{H}  =  \\frac{p_r^2}{m} + \\frac{p_\\phi^2}{mr^2} - \\mathcal{L} $$\n",
    "$$ \\mathcal{H}  =  \\frac{p_r^2}{m} + \\frac{p_\\phi^2}{mr^2} - \\frac{p_r^2}{2m} - \\frac{p_\\phi^2}{2mr^2} - \\frac{Gmm_T}{r} - \\frac{Gmm_L}{r_L} $$\n",
    "$$ \\mathcal{H}  =   \\frac{p_r^2}{2m} + \\frac{p_\\phi^2}{2mr^2} - \\frac{Gmm_T}{r} - \\frac{Gmm_L}{r_L} $$"
   ]
  },
  {
   "cell_type": "markdown",
   "id": "fa2eb72e",
   "metadata": {},
   "source": [
    "**e)** Muestre que las ecuaciones de Hamilton, que son las ecuaciones de movimiento están dadas por:\n",
    "\n",
    "Las velocidades generalizadas estarán dadas por \n",
    "\n",
    "$$ \\dot{r} = \\frac{\\partial \\mathcal{H}}{\\partial p_r} = \\frac{2p_r}{2m} = \\frac{p_r}{m} $$\n",
    "$$ \\dot{\\phi} = \\frac{\\partial \\mathcal{H}}{\\partial p_\\phi} = \\frac{2p_\\phi}{2mr^2} = \\frac{p_\\phi}{mr^2} $$\n",
    "\n",
    "A su vez, las derivadas de los momentos generalizados (fuerzas) estarán dadas por\n",
    "\n",
    "$$ \\dot{p}_r =  - \\frac{\\partial \\mathcal{H}}{\\partial r} = \\frac{p_\\phi^2}{mr^3}- \\frac{Gmm_T}{r^2} - \\frac{Gmm_L}{r_L^2} \\frac{\\partial r_L}{\\partial r} $$\n",
    "Se tiene además que \n",
    "\n",
    "$$ \\frac{\\partial r_L}{\\partial r}  = \\frac{\\partial}{\\partial r} \\sqrt{r^2 + d^2 - 2rd\\cos (\\phi - \\omega t)  }  = \\frac{1}{2r_L} (2r-2d\\cos (\\phi - \\omega t) = \\frac{r-d\\cos(\\phi - \\omega t)}{r_L} $$\n",
    "\n",
    "Entonces se tiene \n",
    "\n",
    "$$ \\dot{p}_r = - \\frac{\\partial \\mathcal{H}}{\\partial r} = \\frac{p_\\phi^2}{mr^3}  - \\frac{Gmm_T}{r^2} - \\frac{Gmm_L}{r_L^3}(r-d\\cos(\\phi - \\omega t))$$\n",
    "\n",
    "Por el otro lado, para el momento generalizado angular se tiene \n",
    "\n",
    "$$ \\dot{p}_\\phi = - \\frac{\\partial \\mathcal{H}}{\\partial \\phi} = - \\frac{Gmm_L}{r_L^2} \\frac{\\partial r_L}{\\partial \\phi} $$\n",
    "\n",
    "Utilizando la derivada\n",
    "\n",
    "$$ \\frac{\\partial r_L}{\\partial \\phi}  = \\frac{2rd\\sin ( \\phi - \\omega t)}{2r_L} = \\frac{rd \\sin (\\phi - \\omega t)}{r_L} $$\n",
    "\n",
    "En total se tendrá,\n",
    "\n",
    "$$ \\dot{p}_\\phi = - \\frac{\\partial \\mathcal{H}}{\\partial \\phi} = - \\frac{Gmm_L}{r_L^3} rd \\sin (\\phi - \\omega t) $$"
   ]
  },
  {
   "cell_type": "markdown",
   "id": "ec850e9d",
   "metadata": {},
   "source": [
    "**f)** Para reducir el error de redondeo se pueden definir nuevas variables normalizadas a la distancia lunar\n",
    "\n",
    "Para la primera ecuación de la derivada de la posición tenemos, al dividir por la distancia\n",
    "\n",
    "$$ \\frac{\\dot{r}}{d} = \\frac{p_r}{md} $$\n",
    "\n",
    "Reemplazando entonces $\\tilde{r} = r/d$ y $\\tilde{p}_r = p_r/md$ se tiene\n",
    "\n",
    "$$\\dot{\\tilde{r}} = \\tilde{p}_r $$\n",
    "\n",
    "Para el ángulo se tendrá sencillamente,\n",
    "\n",
    "$$ \\dot{\\phi} = \\frac{p_\\phi}{mr^2} = \\frac{p_\\phi}{md^2 \\tilde{r}^2}$$\n",
    "\n",
    "Sustituyendo $\\tilde{p}_\\phi = p_\\phi/md^2$ se tiene\n",
    "\n",
    "$$ \\dot{\\phi} = \\frac{\\tilde{p}_\\phi}{\\tilde{r}^2} $$\n",
    "\n",
    "Notamos que la derivada del momento radial será\n",
    "\n",
    "$$ \\frac{\\dot{p}_r}{md} = \\frac{p_\\phi^2}{m^2 dr^3}  - \\frac{Gm_T}{dr^2} - \\frac{Gm_L}{dr_L^3}(r-d\\cos(\\phi - \\omega t)) $$\n",
    "\n",
    "Recordando que $p_r = md \\tilde{p}_r, r=d\\tilde{r}, p_\\phi = md^2 \\tilde{p}_\\phi$ se tendrá\n",
    "\n",
    "$$ \\dot{\\tilde{p}_r} = \\frac{\\tilde{p}_\\phi}{\\tilde{r}^3}  - \\frac{Gm_T}{ d^3 \\tilde{r}^2} - \\frac{Gm_L}{r_L^3}(\\tilde{r}-\\cos(\\phi - \\omega t)) $$\n",
    "\n",
    "Se puede factorizar entonces $Gm_T/d^3$ para tener\n",
    "\n",
    "$$ \\dot{\\tilde{p}_r} = \\frac{\\tilde{p}_\\phi}{\\tilde{r}^3}  - \\frac{Gm_T}{d^3} \\left( \\frac{1}{ \\tilde{r}^2} - \\frac{m_L d^3}{m_T r_L^3}(\\tilde{r}-\\cos(\\phi - \\omega t)) \\right) $$\n",
    "\n",
    "Así mismo, vemos que la expresión calculada en el inciso **c)** puede ser transformada a \n",
    "\n",
    "$$ r_L = d\\sqrt{\\tilde{r}^2+1 - 2\\tilde{r}\\cos(\\phi - \\omega t)}$$\n",
    "\n",
    "y además definir un $\\tilde{r}' = r_L/d$ para tener\n",
    "\n",
    "$$ \\dot{\\tilde{p}_r} = \\frac{\\tilde{p}_\\phi}{\\tilde{r}^3}  - \\frac{Gm_T}{d^3} \\left( \\frac{1}{ \\tilde{r}^2} - \\frac{m_L }{m_T \\tilde{r}'^3}(\\tilde{r}-\\cos(\\phi - \\omega t)) \\right) $$\n",
    "\n",
    "Por último, se definen las constantes $\\Delta = Gm_T/d^3$ y $\\mu = m_L/m_T$ para tener\n",
    "\n",
    "$$ \\dot{\\tilde{p}_r} = \\frac{\\tilde{p}_\\phi}{\\tilde{r}^3}  - \\Delta \\left( \\frac{1}{ \\tilde{r}^2} - \\frac{\\mu }{ \\tilde{r}'^3}(\\tilde{r}-\\cos(\\phi - \\omega t)) \\right) $$\n",
    "\n",
    "Para el componente angular, se tiene \n",
    "\n",
    "$$ \\frac{\\dot{p}_\\phi}{md^2} = - \\frac{Gm_L}{dr_L^3} r \\sin (\\phi - \\omega t) $$\n",
    "$$ \\dot{\\tilde{p}_\\phi} = - \\frac{Gm_L}{r_L^3} \\tilde{r} \\sin (\\phi - \\omega t) $$\n",
    "$$ \\dot{\\tilde{p}_\\phi} = - \\frac{Gm_L}{d^3 \\tilde{r}'^3} \\tilde{r} \\sin (\\phi - \\omega t) = -\\frac{G\\mu}{\\tilde{r}'^3}\\tilde{r} \\sin (\\phi - \\omega t) $$"
   ]
  },
  {
   "cell_type": "markdown",
   "id": "4d2d865a",
   "metadata": {},
   "source": [
    "**g)** Note que usando cordenadas polares con $r^2 = x^2+y^2$ y $\\tan \\theta = y/x$, podemos transformar el sistema pues \n",
    "\n",
    "$$\\tilde{p}_r = \\frac{p_r}{md} = \\frac{1}{d} \\frac{dr}{dt} = \\frac{1}{d} \\frac{d}{dt}\\sqrt{x^2+y^2}= \\frac{1}{2d} (x^2+y^2)^{-1/2} (2x \\dot{x}+2y\\dot{y}) = \\frac{x\\dot{x}+y\\dot{y}}{rd} $$\n",
    "\n",
    "Así mismo,\n",
    "\n",
    "$$\\tilde{p}_\\phi = \\frac{p_\\phi}{md^2} = \\tilde{r}^2 \\frac{d\\phi}{dt} = \\tilde{r}^2 \\frac{d}{dt} \\arctan \\frac{y}{x} = \\tilde{r}^2 \\frac{\\dot{y}x-\\dot{x}y}{x^2+y^2}= \\frac{\\tilde{r}^2}{r^2}(\\dot{y}x-\\dot{x}y) = \\frac{\\dot{y}x-\\dot{x}y}{d^2}  $$ \n",
    "\n",
    "En este punto, se puede utilizar el diagrama de lanzamiento de la Tierra donde claramente $x=r\\cos \\phi, y=r\\sin \\phi, \\dot{x}=v_x=v\\cos \\theta$ y $\\dot{y}=v_y=v\\sin \\theta$. Esto nos permite escribir\n",
    "\n",
    "$$ \\tilde{p}_r = \\frac{p_r}{md} = \\frac{rv}{rd} (\\cos \\theta \\cos \\phi + \\sin \\theta \\sin \\phi) = \\tilde{v} \\cos(\\theta-\\phi) $$\n",
    "\n",
    "$$ \\tilde{p}_\\phi = \\frac{p_\\phi}{md^2} = \\frac{rv}{d^2} (\\sin \\theta \\cos \\phi - \\cos \\theta \\sin \\phi) = \\tilde{r}\\tilde{v} \\sin (\\theta - \\phi)  $$"
   ]
  },
  {
   "cell_type": "markdown",
   "id": "21d9aacf",
   "metadata": {},
   "source": [
    "### Método para resolver la ODE del cohete\n",
    "\n",
    "Para encontrar una solución numérica al problema, usamos el algoritmo de Runge-Kutta de orden 4 (RK4)."
   ]
  },
  {
   "cell_type": "code",
   "execution_count": 38,
   "id": "f3c94ef0-dd48-42da-9ebc-b2b64e1a9250",
   "metadata": {},
   "outputs": [],
   "source": [
    "def RK4 (f, xi, t):\n",
    "    \"\"\"\n",
    "    Implementación del algoritmo de Runge-Kutta de orden 4 para resolver sistemas\n",
    "    de ecuaciones diferenciales.\n",
    "\n",
    "    Args:\n",
    "    f: función de la ED y'=f(t,y)\n",
    "    xi: condición inicial\n",
    "    t: discretización uniformemente espaciada del intervalo temporal.\n",
    "    \"\"\"\n",
    "    h = t[1]-t[0]\n",
    "    y = xi\n",
    "    solution = np.array(xi)\n",
    "\n",
    "    for i in range(1,len(t)):\n",
    "        k1 = f(t[i-1],y)\n",
    "        k2 = f(t[i-1]+0.5*h, y + 0.5*h*k1)\n",
    "        k3 = f(t[i-1]+0.5*h, y + 0.5*h*k2)\n",
    "        k4 = f(t[i-1]+h, y + h*k3)\n",
    "\n",
    "        y += h*(k1+2*k2+2*k3+k4)/6.\n",
    "        solution = np.vstack([solution, y])\n",
    "\n",
    "    return np.transpose(solution)"
   ]
  },
  {
   "cell_type": "markdown",
   "id": "fcbcbb05-1cdc-4b33-90ba-32cd1b04849a",
   "metadata": {},
   "source": [
    "### Resolución del problema\n",
    "\n",
    "Primero, se definen las constantes del problema."
   ]
  },
  {
   "cell_type": "markdown",
   "id": "ea9c3f14-5f35-4972-8132-eb035f963113",
   "metadata": {},
   "source": [
    "La implementación del algoritmo RK4 que hemos desarrollado permite resolver sistemas de ODEs de la forma $$\\mathbf{x}' = f(t,\\mathbf{x}).$$ Solo es necesario definir la función del lado derecho."
   ]
  },
  {
   "cell_type": "code",
   "execution_count": 39,
   "id": "112f18c7-265d-4a53-a46c-fcc62e434a5f",
   "metadata": {},
   "outputs": [],
   "source": [
    "def f(t,x):\n",
    "    \"\"\"\n",
    "    t: tiempo\n",
    "    x: vector de cuatro componentes.\n",
    "    --- x[0]: r/d\n",
    "    --- x[1]: phi\n",
    "    --- x[2]: momento conjugado a x[0], p_r\n",
    "    --- x[3]: momento conjugado a x[1], p_\\phi\n",
    "    \"\"\"\n",
    "    cs = np.cos(x[1]-ome*t)\n",
    "    r_ = np.sqrt(1 + x[0]**2 - 2*x[0]*cs)\n",
    "    Delta = G*MT/(d**3)\n",
    "    mu = ML/MT\n",
    "    d0 = x[2]\n",
    "    d1 = x[3]/ (x[0]**2)\n",
    "    d2 = (x[3]**2) / (x[0]**3) - Delta*(x[0]**(-2) + mu/(r_**3)*(x[0]-cs))\n",
    "    d3 = -(Delta*mu*x[0] / (r_**3)) *np.sin(x[1]-ome*t)\n",
    "    \n",
    "    return np.array([d0, d1, d2, d3])"
   ]
  },
  {
   "cell_type": "code",
   "execution_count": 40,
   "id": "7c460aac",
   "metadata": {},
   "outputs": [],
   "source": [
    "def pr(v0,d,theta,phi):\n",
    "    return (v0/d)*np.cos(theta-phi)\n",
    "\n",
    "def pphi(r0,v0,d,theta,phi):\n",
    "    return (r0/d)*(v0/d)*np.sin(theta-phi)"
   ]
  },
  {
   "cell_type": "code",
   "execution_count": 41,
   "id": "71d23e76",
   "metadata": {},
   "outputs": [],
   "source": [
    "vescape = np.sqrt(2*G*MT/RT)"
   ]
  },
  {
   "cell_type": "code",
   "execution_count": 45,
   "id": "50beb72b-ba10-47ba-93c2-a23eb51b6fb8",
   "metadata": {},
   "outputs": [],
   "source": [
    "t = np.linspace(0,100)\n",
    "rtilde0 = RT/d\n",
    "phi0 = 0\n",
    "theta0 = 0\n",
    "pr0 = pr(vescape, d, theta0, phi0)\n",
    "pphi0 = pphi(RT, vescape, d, theta0, phi0)\n",
    "xi = np.array([rtilde0,phi0,pr0,pphi0])\n",
    "#sol = RK4(f,xi,t)\n",
    "r_sol, phi_sol, pr_sol, pphi_sol = RK4(f,xi,t)"
   ]
  },
  {
   "cell_type": "code",
   "execution_count": 53,
   "id": "72159754",
   "metadata": {},
   "outputs": [
    {
     "data": {
      "text/plain": [
       "Text(0.5, 0, 't[s]')"
      ]
     },
     "execution_count": 53,
     "metadata": {},
     "output_type": "execute_result"
    },
    {
     "data": {
      "image/png": "[encoded data removed]",
      "text/plain": [
       "<Figure size 1152x720 with 4 Axes>"
      ]
     },
     "metadata": {
      "needs_background": "light"
     },
     "output_type": "display_data"
    }
   ],
   "source": [
    "fig, axs = plt.subplots(2,2,figsize=(16,10))\n",
    "\n",
    "axs[0,0].plot(t,r_sol)\n",
    "axs[0,0].set_ylabel(r'$\\tilde{r}$')\n",
    "axs[0,0].set_xlabel('t[s]')\n",
    "\n",
    "axs[0,1].plot(t,phi_sol)\n",
    "axs[0,1].set_ylabel(r'$\\phi$')\n",
    "axs[0,1].set_xlabel('t[s]')\n",
    "\n",
    "axs[1,0].plot(t,pr_sol)\n",
    "axs[1,0].set_ylabel(r'$\\tilde{p}_r$')\n",
    "axs[1,0].set_xlabel('t[s]')\n",
    "\n",
    "axs[1,1].plot(t,pphi_sol)\n",
    "axs[1,1].set_ylabel(r'$\\tilde{p}_\\phi$')\n",
    "axs[1,1].set_xlabel('t[s]')\n"
   ]
  },
  {
   "cell_type": "code",
   "execution_count": null,
   "id": "85f868f9",
   "metadata": {},
   "outputs": [],
   "source": []
  }
 ],
 "metadata": {
  "kernelspec": {
   "display_name": "Python 3 (ipykernel)",
   "language": "python",
   "name": "python3"
  },
  "language_info": {
   "codemirror_mode": {
    "name": "ipython",
    "version": 3
   },
   "file_extension": ".py",
   "mimetype": "text/x-python",
   "name": "python",
   "nbconvert_exporter": "python",
   "pygments_lexer": "ipython3",
   "version": "3.9.7"
  }
 },
 "nbformat": 4,
 "nbformat_minor": 5
}
