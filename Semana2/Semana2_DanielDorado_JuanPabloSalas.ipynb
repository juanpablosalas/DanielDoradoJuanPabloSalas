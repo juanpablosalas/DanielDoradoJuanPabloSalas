{
 "cells": [
  {
   "cell_type": "code",
   "execution_count": 1,
   "id": "26cd39e5",
   "metadata": {},
   "outputs": [
    {
     "ename": "ModuleNotFoundError",
     "evalue": "No module named 'wget'",
     "output_type": "error",
     "traceback": [
      "\u001b[0;31m---------------------------------------------------------------------------\u001b[0m",
      "\u001b[0;31mModuleNotFoundError\u001b[0m                       Traceback (most recent call last)",
      "Input \u001b[0;32mIn [1]\u001b[0m, in \u001b[0;36m<module>\u001b[0;34m\u001b[0m\n\u001b[1;32m      2\u001b[0m \u001b[38;5;28;01mimport\u001b[39;00m \u001b[38;5;21;01mmatplotlib\u001b[39;00m\u001b[38;5;21;01m.\u001b[39;00m\u001b[38;5;21;01mpyplot\u001b[39;00m \u001b[38;5;28;01mas\u001b[39;00m \u001b[38;5;21;01mplt\u001b[39;00m\n\u001b[1;32m      3\u001b[0m \u001b[38;5;28;01mimport\u001b[39;00m \u001b[38;5;21;01mos\u001b[39;00m\u001b[38;5;21;01m.\u001b[39;00m\u001b[38;5;21;01mpath\u001b[39;00m \u001b[38;5;28;01mas\u001b[39;00m \u001b[38;5;21;01mpath\u001b[39;00m\n\u001b[0;32m----> 4\u001b[0m \u001b[38;5;28;01mimport\u001b[39;00m \u001b[38;5;21;01mwget\u001b[39;00m\n\u001b[1;32m      5\u001b[0m \u001b[38;5;28;01mfrom\u001b[39;00m \u001b[38;5;21;01mcelluloid\u001b[39;00m \u001b[38;5;28;01mimport\u001b[39;00m Camera\n\u001b[1;32m      6\u001b[0m \u001b[38;5;28;01mimport\u001b[39;00m \u001b[38;5;21;01mscipy\u001b[39;00m \u001b[38;5;28;01mas\u001b[39;00m \u001b[38;5;21;01msp\u001b[39;00m\n",
      "\u001b[0;31mModuleNotFoundError\u001b[0m: No module named 'wget'"
     ]
    }
   ],
   "source": [
    "import numpy as np\n",
    "import matplotlib.pyplot as plt\n",
    "import os.path as path\n",
    "import wget\n",
    "from celluloid import Camera\n",
    "import scipy as sp\n",
    "from scipy import integrate"
   ]
  },
  {
   "cell_type": "markdown",
   "id": "dffb4329",
   "metadata": {},
   "source": [
    "# 1.2 Presentación de funciones"
   ]
  },
  {
   "cell_type": "markdown",
   "id": "9849dbcf",
   "metadata": {},
   "source": [
    "Consideremos la serie $$ f(t) = 2 \\sum_{n=1}^{\\infty} \\frac{(-1)^{n-1}}{n} \\sin(n t).$$"
   ]
  },
  {
   "cell_type": "code",
   "execution_count": null,
   "id": "def887a2",
   "metadata": {},
   "outputs": [],
   "source": [
    "def f (t, n):\n",
    "    return 2*(-1)**(n-1)*np.sin(n*t)/n"
   ]
  },
  {
   "cell_type": "code",
   "execution_count": null,
   "id": "a375f872",
   "metadata": {},
   "outputs": [],
   "source": [
    "L = np.pi\n",
    "x = np.linspace(-3*L, 3*L, 1000)\n",
    "n = 1\n",
    "nt = 50\n",
    "F = 0\n",
    "fig = plt.figure(figsize=(6,6))\n",
    "camera = Camera(fig)\n",
    "\n",
    "while n < nt:\n",
    "    F += f(x,n)\n",
    "    plt.plot(x,F,c='k')\n",
    "    camera.snap()\n",
    "    n += 1"
   ]
  },
  {
   "cell_type": "code",
   "execution_count": null,
   "id": "95ab9742",
   "metadata": {},
   "outputs": [],
   "source": [
    "animation = camera.animate()\n",
    "animation.save('Fourier.gif')"
   ]
  },
  {
   "cell_type": "markdown",
   "id": "f15fe77a-67ac-455c-99d5-f82d5098725c",
   "metadata": {},
   "source": [
    "# 1.3 Función $\\zeta(s)$ de Riemann "
   ]
  },
  {
   "cell_type": "code",
   "execution_count": null,
   "id": "5b98a891-8b4c-4111-8b11-9f5f6aff62ee",
   "metadata": {},
   "outputs": [],
   "source": [
    "def func (t):\n",
    "    return (t**3-np.pi**2*t)**2/(72*np.pi)\n",
    "\n",
    "\n",
    "I, err = integrate.quadrature(func, 0, np.pi)\n",
    "\n",
    "print(I)\n",
    "print(np.pi**6/945)"
   ]
  },
  {
   "cell_type": "markdown",
   "id": "47ce125b",
   "metadata": {},
   "source": [
    "# 1.4 Derivada espectral"
   ]
  },
  {
   "cell_type": "code",
   "execution_count": null,
   "id": "19076609",
   "metadata": {},
   "outputs": [],
   "source": [
    "def f(x):\n",
    "    return np.multiply(np.exp(-0.1*x),np.sin(x))"
   ]
  },
  {
   "cell_type": "code",
   "execution_count": null,
   "id": "18c52bf9",
   "metadata": {},
   "outputs": [],
   "source": [
    "def fprime(x):\n",
    "    return np.multiply(np.exp(-0.1*x),np.cos(x)-0.1*np.sin(x))"
   ]
  },
  {
   "cell_type": "code",
   "execution_count": null,
   "id": "dc3560e0",
   "metadata": {},
   "outputs": [],
   "source": [
    "def fspectral(x, Fs, N):\n",
    "    fstep = Fs / N\n",
    "    freq = np.linspace(-25, (N-1)*fstep-25, int(N))\n",
    "    \n",
    "    y = f(t)\n",
    "    X = np.fft.fft(y)\n",
    "    freq = np.fft.fftshift(freq)\n",
    "    \n",
    "    spectral_derivative = freq*X*(1j)\n",
    "    return np.real(np.fft.ifft(spectral_derivative))"
   ]
  },
  {
   "cell_type": "code",
   "execution_count": null,
   "id": "89b195d7",
   "metadata": {},
   "outputs": [],
   "source": [
    "def fright(x):\n",
    "    dx = 4*np.pi/100\n",
    "    fright = np.zeros(len(x))\n",
    "    \n",
    "    for i in range(len(x)-1):\n",
    "        fright[i] = (f(x[i+1])-f(x[i]))/dx\n",
    "    return fright"
   ]
  },
  {
   "cell_type": "code",
   "execution_count": null,
   "id": "b50e102e",
   "metadata": {},
   "outputs": [],
   "source": [
    "Fs = 50 # frecuencia de muestreo\n",
    "tstep = 4*np.pi/100 #1/Fs\n",
    "f0 = 5\n",
    "N = int ( 10 * Fs / f0 ) # Numero de muestras"
   ]
  },
  {
   "cell_type": "code",
   "execution_count": null,
   "id": "3288beaa",
   "metadata": {},
   "outputs": [],
   "source": [
    "t = np.linspace(-2*np.pi,(N-1)*tstep-2*np.pi,N)"
   ]
  },
  {
   "cell_type": "code",
   "execution_count": null,
   "id": "52513917",
   "metadata": {},
   "outputs": [],
   "source": [
    "fig = plt.figure(figsize=(15,10))\n",
    "plt.plot(t, fprime(t), label='Derivada exacta')\n",
    "plt.plot(t, fspectral(t, Fs, N), '.-', label='Derivada espectral')\n",
    "plt.plot(t, fright(t), '.', label='Derivada diferencias finitas')\n",
    "plt.xlabel('x')\n",
    "plt.ylabel('y')\n",
    "plt.legend()"
   ]
  },
  {
   "cell_type": "markdown",
   "id": "7ee9dabf",
   "metadata": {},
   "source": [
    "# 1.5 Manchas solares"
   ]
  },
  {
   "cell_type": "code",
   "execution_count": null,
   "id": "8aa50c34",
   "metadata": {},
   "outputs": [],
   "source": [
    "file = 'ManchasSolares.dat'\n",
    "url = 'https://raw.githubusercontent.com/asegura4488/Database/main/MetodosComputacionales/ManchasSolares.dat'\n",
    "if not path.exists(file):\n",
    "    Path_ = wget.download(url,file)\n",
    "    print('Descargado')\n",
    "else:\n",
    "    Path_ = file"
   ]
  },
  {
   "cell_type": "code",
   "execution_count": null,
   "id": "1f334fda",
   "metadata": {},
   "outputs": [],
   "source": [
    "data = np.loadtxt(Path_)"
   ]
  },
  {
   "cell_type": "code",
   "execution_count": null,
   "id": "5c441e30",
   "metadata": {},
   "outputs": [],
   "source": [
    "data = data[data[:,0]>1900]\n",
    "t = data[:,0]\n",
    "ms = data[:,2]\n",
    "ms = ms-np.mean(ms)\n",
    "N = len(t)"
   ]
  },
  {
   "cell_type": "code",
   "execution_count": null,
   "id": "1a267fb7",
   "metadata": {},
   "outputs": [],
   "source": [
    "X = np.fft.fft(ms)\n",
    "XMag = np.abs(X)\n",
    "freq = np.fft.fftfreq(N)"
   ]
  },
  {
   "cell_type": "code",
   "execution_count": null,
   "id": "97180ace",
   "metadata": {},
   "outputs": [],
   "source": [
    "mask = freq<0\n",
    "X[mask] = 0\n",
    "freq[mask] = 0\n",
    "XMag[mask] = 0"
   ]
  },
  {
   "cell_type": "code",
   "execution_count": null,
   "id": "bf8fe2ab",
   "metadata": {},
   "outputs": [],
   "source": [
    "freq2 = freq[0:int(N/2+1)]\n",
    "XMag2  = 2.0*XMag[0:int(N/2+1)]"
   ]
  },
  {
   "cell_type": "code",
   "execution_count": null,
   "id": "86f46c49",
   "metadata": {},
   "outputs": [],
   "source": [
    "fig = plt.figure(figsize=(15,10))\n",
    "ax2 = fig.add_subplot(2,1,1)\n",
    "ax = fig.add_subplot(2,2,3)\n",
    "ax1 = fig.add_subplot(2,2,4)\n",
    "ax2.plot(t,ms)\n",
    "ax.stem(freq, XMag)\n",
    "ax1.stem(freq2, XMag2)"
   ]
  },
  {
   "cell_type": "code",
   "execution_count": null,
   "id": "19074d52",
   "metadata": {},
   "outputs": [],
   "source": [
    "ii = np.argmax(XMag2)\n",
    "print(ii,freq[ii])\n",
    "T = 1/freq[ii]"
   ]
  },
  {
   "cell_type": "code",
   "execution_count": null,
   "id": "65d7de40",
   "metadata": {},
   "outputs": [],
   "source": [
    "filtrada = np.fft.ifft(2*XMag)"
   ]
  },
  {
   "cell_type": "code",
   "execution_count": null,
   "id": "9d122bff",
   "metadata": {},
   "outputs": [],
   "source": [
    "fig = plt.figure(figsize=(15,10))\n",
    "ax = fig.add_subplot(2,1,1)\n",
    "ax.plot(t,XMag,marker='o',label='Datos')\n",
    "ax.plot(t,np.real(filtrada),'.-',label='Frecuencia dominante')\n",
    "plt.legend(loc=1)"
   ]
  }
 ],
 "metadata": {
  "kernelspec": {
   "display_name": "Python 3 (ipykernel)",
   "language": "python",
   "name": "python3"
  },
  "language_info": {
   "codemirror_mode": {
    "name": "ipython",
    "version": 3
   },
   "file_extension": ".py",
   "mimetype": "text/x-python",
   "name": "python",
   "nbconvert_exporter": "python",
   "pygments_lexer": "ipython3",
   "version": "3.8.11"
  }
 },
 "nbformat": 4,
 "nbformat_minor": 5
}
