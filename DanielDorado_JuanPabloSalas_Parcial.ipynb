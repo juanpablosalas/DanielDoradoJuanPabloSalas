{
 "cells": [
  {
   "cell_type": "code",
   "execution_count": 1,
   "id": "2a30c658-5e8e-4415-87fb-921a3822e459",
   "metadata": {},
   "outputs": [],
   "source": [
    "import numpy as np\n",
    "import matplotlib.pyplot as plt\n",
    "from matplotlib import animation"
   ]
  },
  {
   "cell_type": "code",
   "execution_count": 48,
   "id": "f0fa9d50-d651-4477-9bd3-692dd006273b",
   "metadata": {
    "tags": []
   },
   "outputs": [],
   "source": [
    "def BeemanIntegrator(a, t, x0, v0, corrector=False):\n",
    "    h = t[1]-t[0]\n",
    "    x = x0\n",
    "    v = v0\n",
    "    X_sol = np.array(x0)\n",
    "    V_sol = np.array(v0)\n",
    "    \n",
    "\n",
    "    for i in range(1,len(t)):\n",
    "        if i==1:\n",
    "            x += h*v0\n",
    "            v = v + h*a(x0,v0)\n",
    "            \n",
    "        else:\n",
    "            x = x + h*V_sol[i-1,]+(4*a(X_sol[i-1,:],X_sol[i-1,:])-a(X_sol[i-2,:],V_sol[i-2,:]))/6*h**2\n",
    "\n",
    "            if corrector:\n",
    "                v = v + h*(5*a(X_sol[i,:],V_sol[i,:])+8*a(X_sol[i-1,:],V_sol[i-1,:])-a(X_sol[i-2,:],V_sol[i-2,:]))/12\n",
    "            else:\n",
    "                v = v + h*(3*a(X_sol[i-1,:],V_sol[i-1,:])-a(X_sol[i-2,:],V_sol[i-2,:]))/2\n",
    "        \n",
    "        X_sol = np.vstack([X_sol, x])\n",
    "        V_sol = np.vstack([V_sol, v])\n",
    "\n",
    "    return X_sol, V_sol\n",
    "    "
   ]
  },
  {
   "cell_type": "code",
   "execution_count": 26,
   "id": "341dbccf-c139-45b6-80c6-b37e6655a757",
   "metadata": {},
   "outputs": [],
   "source": [
    "k = 5.  #N/m\n",
    "l = 3.  #m\n",
    "m = 2.  #kg\n",
    "g = 9.81#m/s^2"
   ]
  },
  {
   "cell_type": "code",
   "execution_count": 38,
   "id": "26feefc7-e395-4c21-84f6-6c95a75f8573",
   "metadata": {},
   "outputs": [],
   "source": [
    "def acceleration(x, v):\n",
    "    dd_r = k*(l-x[0])/m + g*np.cos(x[1]) + x[0]*(v[1]**2)\n",
    "    dd_theta = -g*np.sin(x[1])/x[0] - 2*v[0]*v[1]/x[0]\n",
    "    \n",
    "    return np.array([dd_r, dd_theta])"
   ]
  },
  {
   "cell_type": "code",
   "execution_count": 35,
   "id": "be7007c0-008f-4ca3-8f7e-b62a50a0ad04",
   "metadata": {
    "tags": []
   },
   "outputs": [],
   "source": [
    "t = np.linspace(0,30,2001)\n",
    "r0 = 15.   #m\n",
    "theta0 = np.pi/8\n",
    "d_r0 = 0.\n",
    "d_theta0 = 0.\n",
    "\n",
    "V_r0 = np.array([r0, theta0])\n",
    "V_v0 = np.array([d_r0, d_theta0])"
   ]
  },
  {
   "cell_type": "code",
   "execution_count": 49,
   "id": "d8db496e-fa42-47a9-b587-7955a897c970",
   "metadata": {},
   "outputs": [
    {
     "ename": "IndexError",
     "evalue": "index 2 is out of bounds for axis 0 with size 2",
     "output_type": "error",
     "traceback": [
      "\u001b[0;31m---------------------------------------------------------------------------\u001b[0m",
      "\u001b[0;31mIndexError\u001b[0m                                Traceback (most recent call last)",
      "\u001b[0;32m/tmp/ipykernel_107/2895715168.py\u001b[0m in \u001b[0;36m<module>\u001b[0;34m\u001b[0m\n\u001b[0;32m----> 1\u001b[0;31m \u001b[0mR_sol\u001b[0m\u001b[0;34m,\u001b[0m \u001b[0mV_sol\u001b[0m \u001b[0;34m=\u001b[0m \u001b[0mBeemanIntegrator\u001b[0m\u001b[0;34m(\u001b[0m\u001b[0macceleration\u001b[0m\u001b[0;34m,\u001b[0m \u001b[0mt\u001b[0m\u001b[0;34m,\u001b[0m \u001b[0mV_r0\u001b[0m\u001b[0;34m,\u001b[0m \u001b[0mV_v0\u001b[0m\u001b[0;34m)\u001b[0m\u001b[0;34m\u001b[0m\u001b[0;34m\u001b[0m\u001b[0m\n\u001b[0m",
      "\u001b[0;32m/tmp/ipykernel_107/4240172796.py\u001b[0m in \u001b[0;36mBeemanIntegrator\u001b[0;34m(a, t, x0, v0, corrector)\u001b[0m\n\u001b[1;32m     13\u001b[0m \u001b[0;34m\u001b[0m\u001b[0m\n\u001b[1;32m     14\u001b[0m         \u001b[0;32melse\u001b[0m\u001b[0;34m:\u001b[0m\u001b[0;34m\u001b[0m\u001b[0;34m\u001b[0m\u001b[0m\n\u001b[0;32m---> 15\u001b[0;31m             \u001b[0mx\u001b[0m \u001b[0;34m=\u001b[0m \u001b[0mx\u001b[0m \u001b[0;34m+\u001b[0m \u001b[0mh\u001b[0m\u001b[0;34m*\u001b[0m\u001b[0mv\u001b[0m\u001b[0;34m[\u001b[0m\u001b[0mi\u001b[0m\u001b[0;34m-\u001b[0m\u001b[0;36m1\u001b[0m\u001b[0;34m]\u001b[0m\u001b[0;34m+\u001b[0m\u001b[0;34m(\u001b[0m\u001b[0;36m4\u001b[0m\u001b[0;34m*\u001b[0m\u001b[0ma\u001b[0m\u001b[0;34m(\u001b[0m\u001b[0mX_sol\u001b[0m\u001b[0;34m[\u001b[0m\u001b[0mi\u001b[0m\u001b[0;34m-\u001b[0m\u001b[0;36m1\u001b[0m\u001b[0;34m,\u001b[0m\u001b[0;34m:\u001b[0m\u001b[0;34m]\u001b[0m\u001b[0;34m,\u001b[0m\u001b[0mX_sol\u001b[0m\u001b[0;34m[\u001b[0m\u001b[0mi\u001b[0m\u001b[0;34m-\u001b[0m\u001b[0;36m1\u001b[0m\u001b[0;34m,\u001b[0m\u001b[0;34m:\u001b[0m\u001b[0;34m]\u001b[0m\u001b[0;34m)\u001b[0m\u001b[0;34m-\u001b[0m\u001b[0ma\u001b[0m\u001b[0;34m(\u001b[0m\u001b[0mX_sol\u001b[0m\u001b[0;34m[\u001b[0m\u001b[0mi\u001b[0m\u001b[0;34m-\u001b[0m\u001b[0;36m2\u001b[0m\u001b[0;34m,\u001b[0m\u001b[0;34m:\u001b[0m\u001b[0;34m]\u001b[0m\u001b[0;34m,\u001b[0m\u001b[0mV_sol\u001b[0m\u001b[0;34m[\u001b[0m\u001b[0mi\u001b[0m\u001b[0;34m-\u001b[0m\u001b[0;36m2\u001b[0m\u001b[0;34m,\u001b[0m\u001b[0;34m:\u001b[0m\u001b[0;34m]\u001b[0m\u001b[0;34m)\u001b[0m\u001b[0;34m)\u001b[0m\u001b[0;34m/\u001b[0m\u001b[0;36m6\u001b[0m\u001b[0;34m*\u001b[0m\u001b[0mh\u001b[0m\u001b[0;34m**\u001b[0m\u001b[0;36m2\u001b[0m\u001b[0;34m\u001b[0m\u001b[0;34m\u001b[0m\u001b[0m\n\u001b[0m\u001b[1;32m     16\u001b[0m \u001b[0;34m\u001b[0m\u001b[0m\n\u001b[1;32m     17\u001b[0m             \u001b[0;32mif\u001b[0m \u001b[0mcorrector\u001b[0m\u001b[0;34m:\u001b[0m\u001b[0;34m\u001b[0m\u001b[0;34m\u001b[0m\u001b[0m\n",
      "\u001b[0;31mIndexError\u001b[0m: index 2 is out of bounds for axis 0 with size 2"
     ]
    }
   ],
   "source": [
    "R_sol, V_sol = BeemanIntegrator(acceleration, t, V_r0, V_v0)"
   ]
  },
  {
   "cell_type": "code",
   "execution_count": null,
   "id": "4305d64a-e7ad-4560-ab0f-04acadc79663",
   "metadata": {},
   "outputs": [],
   "source": []
  }
 ],
 "metadata": {
  "kernelspec": {
   "display_name": "Python 3 (ipykernel)",
   "language": "python",
   "name": "python3"
  },
  "language_info": {
   "codemirror_mode": {
    "name": "ipython",
    "version": 3
   },
   "file_extension": ".py",
   "mimetype": "text/x-python",
   "name": "python",
   "nbconvert_exporter": "python",
   "pygments_lexer": "ipython3",
   "version": "3.7.12"
  }
 },
 "nbformat": 4,
 "nbformat_minor": 5
}
