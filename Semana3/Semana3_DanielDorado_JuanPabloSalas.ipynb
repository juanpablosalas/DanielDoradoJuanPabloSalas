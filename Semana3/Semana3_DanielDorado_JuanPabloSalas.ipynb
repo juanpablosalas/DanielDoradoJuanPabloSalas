{
 "cells": [
  {
   "cell_type": "code",
   "execution_count": 54,
   "id": "e26a685d",
   "metadata": {},
   "outputs": [],
   "source": [
    "%matplotlib inline\n",
    "import numpy as np\n",
    "import matplotlib.pyplot as plt\n",
    "import csv\n",
    "import scipy.integrate as integrate\n",
    "# from tqdm import tqdm  \n",
    "import matplotlib.animation as anim"
   ]
  },
  {
   "cell_type": "markdown",
   "id": "9d6402fa",
   "metadata": {},
   "source": [
    "# Colisiones 2D de duración finita"
   ]
  },
  {
   "cell_type": "code",
   "execution_count": 55,
   "id": "dd71b425",
   "metadata": {},
   "outputs": [],
   "source": [
    "class Particle():\n",
    "    \n",
    "    # init\n",
    "    def __init__(self, r0,v0,a0,t,m,radius,Id):\n",
    "        \n",
    "        self.dt  = t[1] - t[0]\n",
    "        \n",
    "        self.r = r0\n",
    "        self.v = v0\n",
    "        self.a = a0\n",
    "        \n",
    "        self.rVector = np.zeros( (len(t),len(r0)) )\n",
    "        self.vVector = np.zeros( (len(t),len(v0)) )\n",
    "        self.aVector = np.zeros( (len(t),len(a0)) )\n",
    "        \n",
    "        self.m = m\n",
    "        self.radius = radius\n",
    "        self.Id = Id\n",
    "        \n",
    "    # Method\n",
    "    def Evolution(self,i, ParticleList):\n",
    "        \n",
    "        self.SetPosition(i,self.r)\n",
    "        self.SetVelocity(i,self.v)\n",
    "        self.CalculateForce(i, ParticleList)\n",
    "        #self.SetAcceleration(i,self.a)\n",
    "        \n",
    "        # Euler method\n",
    "        self.r += self.dt * self.v\n",
    "        self.v += self.dt * self.a\n",
    "    \n",
    "    def CheckWallLimits(self,limits,dim=2):\n",
    "        \n",
    "        for i in range(dim):\n",
    "            \n",
    "            if self.r[i] + self.radius > limits[i]:\n",
    "                self.v[i] = - self.v[i]\n",
    "            if self.r[i] - self.radius < - limits[i]:\n",
    "                self.v[i] = - self.v[i]\n",
    "    \n",
    "    # Setters\n",
    "    \n",
    "    def SetPosition(self,i,r):\n",
    "        self.rVector[i] = r\n",
    "        \n",
    "    def SetVelocity(self,i,v):\n",
    "        self.vVector[i] = v\n",
    "        \n",
    "    def SetAcceleration(self,i,a):\n",
    "        self.aVector[i] = a\n",
    "        \n",
    "    # Getters  \n",
    "    def GetPositionVector(self):\n",
    "        return self.rVector\n",
    "    \n",
    "    def GetRPositionVector(self):\n",
    "        return self.RrVector \n",
    "    \n",
    "\n",
    "    def GetVelocityVector(self):\n",
    "        return self.vVector\n",
    "    \n",
    "    def GetR(self):\n",
    "        return self.radius\n",
    "    \n",
    "    def ReduceSize(self,factor):\n",
    "        \n",
    "        self.RrVector = np.array([self.rVector[0]]) # initial condition\n",
    "        \n",
    "        \n",
    "        for i in range(1,len(self.rVector)):\n",
    "            if i%factor == 0:\n",
    "                self.RrVector = np.vstack([self.RrVector,self.rVector[i]])\n",
    "                \n",
    "               # print(self.RrVector)\n",
    "            \n",
    "    def CalculateForce(self, i , ParticleList, K=100):\n",
    "        force = np.zeros(len(self.r))\n",
    "        for particle in ParticleList:\n",
    "            if particle.Id != self.Id:\n",
    "                norma = np.linalg.norm(self.r-particle.r)\n",
    "                if norma<self.radius+particle.radius:\n",
    "                    force = K*np.power(norma,2)*(self.r-particle.r)\n",
    "        self.SetAcceleration(i,force/self.m)\n",
    "        return force\n",
    "            \n",
    "    def GetKineticEnergy(self):\n",
    "        kinenergy = 0.5*self.m*np.linalg.norm(self.v)**2\n",
    "        return kinenergy\n",
    "    \n",
    "    def GetPotentialEnergy(self, particle, K):\n",
    "        dr = self.r-particle.r\n",
    "        rf = np.linalg.norm(dr)\n",
    "        R1 = self.radius\n",
    "        R2 = particle.radius\n",
    "        R = R1 + R2\n",
    "        if rf<R:\n",
    "            integral = K*((R1+R2)**4-rf**4)/4\n",
    "        else:\n",
    "            integral = 0\n",
    "        return integral"
   ]
  },
  {
   "cell_type": "code",
   "execution_count": 56,
   "id": "0a3edf26",
   "metadata": {},
   "outputs": [
    {
     "name": "stdout",
     "output_type": "stream",
     "text": [
      "100001\n"
     ]
    }
   ],
   "source": [
    "# Discretization\n",
    "dt = 0.0001\n",
    "tmax = 10\n",
    "t = np.arange(0,tmax+dt,dt)\n",
    "print(len(t))"
   ]
  },
  {
   "cell_type": "code",
   "execution_count": 57,
   "id": "52415805",
   "metadata": {},
   "outputs": [],
   "source": [
    "def GetParticles():\n",
    "    ParticleList = []\n",
    "    m= 1\n",
    "    R= 2\n",
    "    \n",
    "    p1 = Particle(np.array([0.,0.]),np.array([20.,0.]),np.array([0.,0.]),t,m,R,1)\n",
    "    p2 = Particle(np.array([0.,-1.6]),np.array([0.,0.]),np.array([0.,0.]),t,m,R,2)\n",
    "    p3 = Particle(np.array([-15.,-15.]),np.array([0.,0.]),np.array([0.,0.]),t,m,R,3)\n",
    "    \n",
    "    ParticleList.append(p1)\n",
    "    ParticleList.append(p2)\n",
    "    ParticleList.append(p3)\n",
    "    \n",
    "    return ParticleList"
   ]
  },
  {
   "cell_type": "code",
   "execution_count": 58,
   "id": "fea16c47",
   "metadata": {},
   "outputs": [],
   "source": [
    "def GetTotalPE(ParticleList):\n",
    "    PE = 0\n",
    "    K = 100\n",
    "    for i in ParticleList:\n",
    "        for j in ParticleList:\n",
    "            PE+=i.GetPotentialEnergy(j,K)\n",
    "    return PE/2"
   ]
  },
  {
   "cell_type": "code",
   "execution_count": 59,
   "id": "993701e2",
   "metadata": {},
   "outputs": [],
   "source": [
    "def GetTotalKE(ParticleList):\n",
    "    KE = 0\n",
    "    for i in ParticleList:\n",
    "        KE += i.GetKineticEnergy()\n",
    "    return KE"
   ]
  },
  {
   "cell_type": "code",
   "execution_count": 60,
   "id": "340c6bc6",
   "metadata": {},
   "outputs": [],
   "source": [
    "Limits = np.array([20.,20.])\n",
    "def RunSimulation(t):\n",
    "    Particles = GetParticles()\n",
    "    PE = np.zeros(len(t))\n",
    "    KE = np.zeros(len(t))\n",
    "    for it in range(len(t)): # Evolucion temporal\n",
    "        for i in range(len(Particles)):\n",
    "            Particles[i].CheckWallLimits(Limits)\n",
    "            Particles[i].Evolution(it, Particles)\n",
    "        PE[it] = GetTotalPE(Particles)\n",
    "        KE[it] = GetTotalKE(Particles)\n",
    "        \n",
    "        \n",
    "    return Particles, PE, KE"
   ]
  },
  {
   "cell_type": "code",
   "execution_count": null,
   "id": "c344f723",
   "metadata": {},
   "outputs": [],
   "source": [
    "Particles, PE, KE = RunSimulation(t)"
   ]
  },
  {
   "cell_type": "code",
   "execution_count": null,
   "id": "6f99fd63",
   "metadata": {},
   "outputs": [],
   "source": [
    "plt.plot(t,PE, label='PE')\n",
    "plt.plot(t,KE, label='KE')\n",
    "plt.plot(t,PE+KE,label='PE+KE')\n",
    "plt.legend()"
   ]
  },
  {
   "cell_type": "code",
   "execution_count": 51,
   "id": "beb54632",
   "metadata": {},
   "outputs": [],
   "source": [
    "def ReduceTime(t,factor):\n",
    "    \n",
    "    for p in Particles:\n",
    "        p.ReduceSize(factor)\n",
    "        \n",
    "    Newt = []\n",
    "    \n",
    "    for i in range(len(t)):\n",
    "        if i%factor == 0:\n",
    "            Newt.append(t[i])\n",
    "            \n",
    "    return np.array(Newt)"
   ]
  },
  {
   "cell_type": "code",
   "execution_count": 52,
   "id": "3ba30380",
   "metadata": {},
   "outputs": [
    {
     "data": {
      "text/plain": [
       "10001"
      ]
     },
     "execution_count": 52,
     "metadata": {},
     "output_type": "execute_result"
    }
   ],
   "source": [
    "redt = ReduceTime(t,10)\n",
    "len(Particles[0].GetRPositionVector())"
   ]
  },
  {
   "cell_type": "code",
   "execution_count": 53,
   "id": "36ddac0b",
   "metadata": {},
   "outputs": [
    {
     "data": {
      "image/png": "[encoded data removed]",
      "text/plain": [
       "<Figure size 360x360 with 1 Axes>"
      ]
     },
     "metadata": {
      "needs_background": "light"
     },
     "output_type": "display_data"
    }
   ],
   "source": [
    "fig = plt.figure(figsize=(5,5))\n",
    "ax = fig.add_subplot(1,1,1)\n",
    "\n",
    "\n",
    "def init():\n",
    "    ax.set_xlim(-Limits[0],Limits[0])\n",
    "    ax.set_ylim(-Limits[1],Limits[1])\n",
    "\n",
    "def Update(i):\n",
    "    \n",
    "    plot = ax.clear()\n",
    "    init()\n",
    "    plot = ax.set_title(r'$t=%.2f \\ seconds$' %(redt[i]), fontsize=15)\n",
    "    \n",
    "    for p in Particles:\n",
    "        x = p.GetRPositionVector()[i,0]\n",
    "        y = p.GetRPositionVector()[i,1]\n",
    "        \n",
    "        vx = p.GetVelocityVector()[i,0]\n",
    "        vy = p.GetVelocityVector()[i,1]\n",
    "        \n",
    "        circle = plt.Circle( (x,y), p.GetR(), color='k', fill=False)\n",
    "        plot = ax.add_patch(circle)\n",
    "        #plot = ax.arrow(x,y,vx,vy,color='r',head_width=0.5)\n",
    "        \n",
    "    return plot\n",
    "\n",
    "Animation = anim.FuncAnimation(fig,Update,frames=len(redt),init_func=init)"
   ]
  },
  {
   "cell_type": "markdown",
   "id": "1cb20d9b",
   "metadata": {},
   "source": [
    "# Tiempo libre medio"
   ]
  },
  {
   "cell_type": "markdown",
   "id": "7051e205",
   "metadata": {
    "id": "GTdARpX_FkLu"
   },
   "source": [
    "(a) Descargue los datos:"
   ]
  },
  {
   "cell_type": "code",
   "execution_count": 10,
   "id": "2cec0e8c",
   "metadata": {
    "colab": {
     "base_uri": "https://localhost:8080/"
    },
    "id": "-ktUWBZHoGFQ",
    "outputId": "4e467541-64e7-426b-d87c-eb665adeca16"
   },
   "outputs": [
    {
     "name": "stdout",
     "output_type": "stream",
     "text": [
      "--2022-02-14 21:24:10--  https://raw.githubusercontent.com/asegura4488/Database/main/MetodosComputacionalesReforma/EnergiaPotencialGas2D.txt\n",
      "Resolving raw.githubusercontent.com (raw.githubusercontent.com)... 185.199.109.133, 185.199.110.133, 185.199.111.133, ...\n",
      "Connecting to raw.githubusercontent.com (raw.githubusercontent.com)|185.199.109.133|:443... connected.\n",
      "HTTP request sent, awaiting response... 200 OK\n",
      "Length: 400000 (391K) [text/plain]\n",
      "Saving to: ‘EnergiaPotencialGas2D.txt’\n",
      "\n",
      "EnergiaPotencialGas 100%[===================>] 390.62K   956KB/s    in 0.4s    \n",
      "\n",
      "2022-02-14 21:24:12 (956 KB/s) - ‘EnergiaPotencialGas2D.txt’ saved [400000/400000]\n",
      "\n"
     ]
    }
   ],
   "source": [
    "!wget https://raw.githubusercontent.com/asegura4488/Database/main/MetodosComputacionalesReforma/EnergiaPotencialGas2D.txt"
   ]
  },
  {
   "cell_type": "code",
   "execution_count": 11,
   "id": "900804a0",
   "metadata": {
    "id": "FrhLgG6Doh3B"
   },
   "outputs": [],
   "source": [
    "E = []\n",
    "t = []\n",
    "\n",
    "with open('EnergiaPotencialGas2D.txt', 'r') as data:\n",
    "    csv_reader = csv.reader(data, delimiter=' ')\n",
    "\n",
    "    for line in csv_reader:\n",
    "        t.append(float(line[0]))\n",
    "        E.append(float(line[1]))\n",
    "\n",
    "E = np.array(E)\n",
    "t = np.array(t)"
   ]
  },
  {
   "cell_type": "code",
   "execution_count": 12,
   "id": "e41e5ab5",
   "metadata": {
    "id": "2NU86-_RzMM0"
   },
   "outputs": [],
   "source": [
    "sampleT = t[1] - t[0]"
   ]
  },
  {
   "cell_type": "code",
   "execution_count": 13,
   "id": "cce171b3",
   "metadata": {
    "colab": {
     "base_uri": "https://localhost:8080/",
     "height": 265
    },
    "id": "obGWKzu-qqwe",
    "outputId": "d2abd2d0-be61-4504-c618-4a5e9c7cca7f"
   },
   "outputs": [
    {
     "data": {
      "image/png": "[encoded data removed]",
      "text/plain": [
       "<Figure size 432x288 with 1 Axes>"
      ]
     },
     "metadata": {
      "needs_background": "light"
     },
     "output_type": "display_data"
    }
   ],
   "source": [
    "plt.plot(t,E)\n",
    "plt.show()"
   ]
  },
  {
   "cell_type": "markdown",
   "id": "858a2507",
   "metadata": {
    "id": "19cSQMjpFuOX"
   },
   "source": [
    "(b) Quitar el valor medio de la energía potencial."
   ]
  },
  {
   "cell_type": "code",
   "execution_count": 14,
   "id": "ef24a8dd",
   "metadata": {
    "id": "D4cM1zGqrN5b"
   },
   "outputs": [],
   "source": [
    "E_m = E - np.mean(E)"
   ]
  },
  {
   "cell_type": "code",
   "execution_count": 15,
   "id": "99031ef9",
   "metadata": {
    "colab": {
     "base_uri": "https://localhost:8080/",
     "height": 265
    },
    "id": "7Iu6glnarzXB",
    "outputId": "9049df2f-8b3a-4426-931d-6f1a8d367d3c"
   },
   "outputs": [
    {
     "data": {
      "image/png": "[encoded data removed]",
      "text/plain": [
       "<Figure size 432x288 with 1 Axes>"
      ]
     },
     "metadata": {
      "needs_background": "light"
     },
     "output_type": "display_data"
    }
   ],
   "source": [
    "plt.plot(t,E_m)\n",
    "plt.show()"
   ]
  },
  {
   "cell_type": "markdown",
   "id": "de0e6a22",
   "metadata": {
    "id": "P6Yjd42yF6Ap"
   },
   "source": [
    "(c) Encuentre la transformada rápida de Fourier de los datos."
   ]
  },
  {
   "cell_type": "code",
   "execution_count": 16,
   "id": "66a419ca",
   "metadata": {
    "id": "T3SENdybr1tI"
   },
   "outputs": [],
   "source": [
    "X = np.fft.fft(E_m)\n",
    "freqs = np.fft.fftfreq(len(t))"
   ]
  },
  {
   "cell_type": "code",
   "execution_count": 17,
   "id": "8ed0877a",
   "metadata": {
    "id": "8S97g43jtZih"
   },
   "outputs": [],
   "source": [
    "X_a = np.abs(X)"
   ]
  },
  {
   "cell_type": "code",
   "execution_count": 18,
   "id": "1ae19494",
   "metadata": {
    "colab": {
     "base_uri": "https://localhost:8080/",
     "height": 265
    },
    "id": "7gJRe7SQvzAm",
    "outputId": "1a658bbe-20a9-4737-81a1-3eb1623318e2"
   },
   "outputs": [
    {
     "data": {
      "image/png": "[encoded data removed]",
      "text/plain": [
       "<Figure size 432x288 with 1 Axes>"
      ]
     },
     "metadata": {
      "needs_background": "light"
     },
     "output_type": "display_data"
    }
   ],
   "source": [
    "plt.plot(freqs,X_a)\n",
    "plt.show()"
   ]
  },
  {
   "cell_type": "markdown",
   "id": "cdc6d5af",
   "metadata": {
    "id": "fxw_0YPWGFMg"
   },
   "source": [
    "(d) Encuentre la frecuencia fundamental asociada a la frecuencia media de colisión entre partículas."
   ]
  },
  {
   "cell_type": "code",
   "execution_count": 19,
   "id": "f86173c2",
   "metadata": {
    "id": "vCGVun3rv1KU"
   },
   "outputs": [],
   "source": [
    "mask = freqs < 0\n",
    "X[mask] = 0\n",
    "X_a[mask] = 0"
   ]
  },
  {
   "cell_type": "code",
   "execution_count": 20,
   "id": "e7e4bad2",
   "metadata": {
    "id": "oxOsaDcM0wB2"
   },
   "outputs": [],
   "source": [
    "ii = np.argmax(X_a)\n",
    "mask = X_a < X_a[ii]\n",
    "X[mask] = 0"
   ]
  },
  {
   "cell_type": "code",
   "execution_count": 21,
   "id": "7b02d889",
   "metadata": {
    "colab": {
     "base_uri": "https://localhost:8080/",
     "height": 537
    },
    "id": "1qZ5pjgi2NoT",
    "outputId": "10d03401-4372-47df-f11a-207f7747f1bc"
   },
   "outputs": [
    {
     "data": {
      "image/png": "[encoded data removed]",
      "text/plain": [
       "<Figure size 1152x648 with 2 Axes>"
      ]
     },
     "metadata": {
      "needs_background": "light"
     },
     "output_type": "display_data"
    }
   ],
   "source": [
    "plt.figure(figsize=(16,9))\n",
    "plt.subplot(1,2,1)\n",
    "plt.plot(freqs,X_a)\n",
    "\n",
    "plt.subplot(1,2,2)\n",
    "plt.plot(freqs,np.abs(X))\n",
    "plt.show()"
   ]
  },
  {
   "cell_type": "code",
   "execution_count": 22,
   "id": "4af3a21f",
   "metadata": {
    "colab": {
     "base_uri": "https://localhost:8080/"
    },
    "id": "DazP4h72GSKh",
    "outputId": "3d5b2ce8-390a-4b72-f950-0280fec9c358"
   },
   "outputs": [
    {
     "name": "stdout",
     "output_type": "stream",
     "text": [
      "La frecuencia fundamental asociada a la frecuencia media de colisión es 1.2500 s^-1.\n"
     ]
    }
   ],
   "source": [
    "f0 = freqs[ii]\n",
    "print(r'La frecuencia fundamental asociada a la frecuencia media de colisión es {:.4f} s^-1.'.format(f0/sampleT))"
   ]
  },
  {
   "cell_type": "markdown",
   "id": "c2b4b5f5",
   "metadata": {
    "id": "xWjdZ1hqHRvC"
   },
   "source": [
    "(e) Encuentre $\\tau$ como $\\tau = 1/f_0$ en pasos temporales."
   ]
  },
  {
   "cell_type": "code",
   "execution_count": 23,
   "id": "0b73e4b0",
   "metadata": {
    "colab": {
     "base_uri": "https://localhost:8080/"
    },
    "id": "2iJ09VsmHRKL",
    "outputId": "55d27709-6275-418e-daa2-c5f9193453fc"
   },
   "outputs": [
    {
     "name": "stdout",
     "output_type": "stream",
     "text": [
      "El tiempo libre medio es 800.00 pasos temporales.\n"
     ]
    }
   ],
   "source": [
    "print('El tiempo libre medio es {:.2f} pasos temporales.'.format(1/f0))"
   ]
  },
  {
   "cell_type": "markdown",
   "id": "ce8f8122",
   "metadata": {
    "id": "auwnEPFUH9z2"
   },
   "source": [
    "(f) Obtenga la figura derecha."
   ]
  },
  {
   "cell_type": "code",
   "execution_count": 24,
   "id": "ddb81faf",
   "metadata": {
    "id": "VUCCzKJuAcbV"
   },
   "outputs": [],
   "source": [
    "fundamental = np.fft.ifft(X)"
   ]
  },
  {
   "cell_type": "code",
   "execution_count": 25,
   "id": "67c3737b",
   "metadata": {
    "colab": {
     "base_uri": "https://localhost:8080/",
     "height": 299
    },
    "id": "pFz_fcUVA1wo",
    "outputId": "7b731b5f-429d-473d-ed8c-aa0fed2c5d32"
   },
   "outputs": [
    {
     "data": {
      "image/png": "[encoded data removed]",
      "text/plain": [
       "<Figure size 432x288 with 1 Axes>"
      ]
     },
     "metadata": {
      "needs_background": "light"
     },
     "output_type": "display_data"
    }
   ],
   "source": [
    "plt.plot(E_m, '--', label='Energía potencial')\n",
    "plt.plot(np.real(fundamental), label='Frecuencia fundamental')\n",
    "plt.xlabel(r'$t[s]$')\n",
    "plt.ylabel(r'$E[J]$')\n",
    "plt.title('Tiempo libre medio: {:.2f} pasos temporales'.format(1/f0))\n",
    "plt.legend()\n",
    "plt.show()"
   ]
  },
  {
   "cell_type": "markdown",
   "id": "4587a063",
   "metadata": {},
   "source": [
    "# Termodinámica"
   ]
  },
  {
   "cell_type": "code",
   "execution_count": 26,
   "id": "ae2e7662",
   "metadata": {},
   "outputs": [],
   "source": [
    "A=0.01\n",
    "k=389.6\n",
    "l=0.30\n",
    "R = 8.3145\n",
    "cv = 1.5*R\n",
    "n = 1"
   ]
  },
  {
   "cell_type": "code",
   "execution_count": 27,
   "id": "ed00c7e2",
   "metadata": {},
   "outputs": [],
   "source": [
    "C = k*A/(n*cv*l)"
   ]
  },
  {
   "cell_type": "code",
   "execution_count": 28,
   "id": "779a8ac2",
   "metadata": {},
   "outputs": [],
   "source": [
    "r0 = [400,200] #T10=400K, T20=200K\n",
    "def f0(T1,T2,C):\n",
    "    return -C*(T1-T2)\n",
    "\n",
    "def f1(T1,T2,C):\n",
    "    return C*(T1-T2)"
   ]
  },
  {
   "cell_type": "code",
   "execution_count": 29,
   "id": "8e8136d1",
   "metadata": {},
   "outputs": [],
   "source": [
    "def GetEuler(f0,f1,r0,t):\n",
    "    \n",
    "    h = (t[-1] - t[0])/(len(t)-1)\n",
    "    \n",
    "    T1 = np.zeros(len(t))\n",
    "    T2 = np.zeros(len(t))\n",
    "    \n",
    "    T1[0] = r0[0]\n",
    "    T2[0] = r0[1]\n",
    "    \n",
    "    K1 = np.zeros(2)\n",
    "    \n",
    "    for i in range( 1, len(t) ):\n",
    "        \n",
    "        K1[0] = f0(T1[i-1],T2[i-1],C)\n",
    "        K1[1] = f1(T1[i-1],T2[i-1],C)\n",
    "        \n",
    "        T1[i] = T1[i-1] + h*K1[0]\n",
    "        T2[i] = T2[i-1] + h*K1[1]\n",
    "        \n",
    "    return T1,T2"
   ]
  },
  {
   "cell_type": "code",
   "execution_count": 30,
   "id": "77183cc0",
   "metadata": {},
   "outputs": [],
   "source": [
    "N = 50\n",
    "t = np.linspace(0.,15.,N)\n",
    "\n",
    "T1,T2 = GetEuler(f0,f1,r0,t)"
   ]
  },
  {
   "cell_type": "code",
   "execution_count": 31,
   "id": "1d409903",
   "metadata": {},
   "outputs": [
    {
     "data": {
      "text/plain": [
       "<matplotlib.legend.Legend at 0x12029d700>"
      ]
     },
     "execution_count": 31,
     "metadata": {},
     "output_type": "execute_result"
    },
    {
     "data": {
      "image/png": "[encoded data removed]",
      "text/plain": [
       "<Figure size 720x504 with 1 Axes>"
      ]
     },
     "metadata": {
      "needs_background": "light"
     },
     "output_type": "display_data"
    }
   ],
   "source": [
    "fig = plt.figure(figsize=(10,7))\n",
    "ax = fig.add_subplot(121)\n",
    "ax.plot(t,T1, label='Temperatura 1')\n",
    "ax.plot(t,T2, label='Temperatura 2')\n",
    "ax.legend()"
   ]
  },
  {
   "cell_type": "code",
   "execution_count": null,
   "id": "a0a4eefd",
   "metadata": {},
   "outputs": [],
   "source": []
  }
 ],
 "metadata": {
  "kernelspec": {
   "display_name": "Python 3 (ipykernel)",
   "language": "python",
   "name": "python3"
  },
  "language_info": {
   "codemirror_mode": {
    "name": "ipython",
    "version": 3
   },
   "file_extension": ".py",
   "mimetype": "text/x-python",
   "name": "python",
   "nbconvert_exporter": "python",
   "pygments_lexer": "ipython3",
   "version": "3.9.7"
  }
 },
 "nbformat": 4,
 "nbformat_minor": 5
}
