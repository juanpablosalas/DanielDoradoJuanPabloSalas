{
  "cells": [
    {
      "cell_type": "code",
      "execution_count": 1,
      "metadata": {
        "id": "K8arb-KEcTux"
      },
      "outputs": [],
      "source": [
        "import numpy as np\n",
        "import matplotlib.pyplot as plt"
      ]
    },
    {
      "cell_type": "code",
      "execution_count": 2,
      "metadata": {
        "id": "lU7FcgYkcaHJ"
      },
      "outputs": [],
      "source": [
        "Min, Max, N = 0.,40.,11\n",
        "x = np.linspace(Min,Max,N)\n",
        "y = x.copy()\n",
        "h = x[1]-x[0]"
      ]
    },
    {
      "cell_type": "code",
      "execution_count": 3,
      "metadata": {
        "id": "QIW7_vmFcgMO"
      },
      "outputs": [],
      "source": [
        "def h1(y):\n",
        "    return 100.\n",
        "def h2(y):\n",
        "    return 0.\n",
        "def h3(x):\n",
        "    return 0.\n",
        "def h4(x):\n",
        "    return 0."
      ]
    },
    {
      "cell_type": "code",
      "execution_count": 4,
      "metadata": {
        "id": "VGPD1MEpcrCV"
      },
      "outputs": [],
      "source": [
        "def InitT():\n",
        "    \n",
        "    T = np.zeros((N,N))\n",
        "    \n",
        "    T[0,:] = h1(y)\n",
        "    T[-1,:] = h2(y)\n",
        "    \n",
        "    T[:,0] = h3(x)\n",
        "    T[:,-1] = h4(x)\n",
        "    \n",
        "    return T"
      ]
    },
    {
      "cell_type": "code",
      "execution_count": 5,
      "metadata": {
        "id": "Vc31QA0ac17e"
      },
      "outputs": [],
      "source": [
        "def GetRelaxation(T, Nit = int(1e5), omega = 1.9, tolerancia = 1e-2):\n",
        "    \n",
        "    itmax = 0\n",
        "    \n",
        "    for it in range(Nit):\n",
        "        \n",
        "        dmax = 0.\n",
        "        \n",
        "        for i in range(1, len(x)-1):\n",
        "            for j in range(1, len(y)-1):\n",
        "                tmp = 0.25*(T[i+1,j]+T[i-1,j]+T[i,j+1]+T[i,j-1])\n",
        "                r = omega*(tmp - T[i,j])\n",
        "                \n",
        "                T[i,j] += r\n",
        "                \n",
        "                if np.abs(r) > dmax:\n",
        "                    dmax = r\n",
        "        \n",
        "        if np.abs(dmax) < tolerancia:\n",
        "            print(it)\n",
        "            itmax = it\n",
        "            break\n",
        "            \n",
        "    return T,itmax"
      ]
    },
    {
      "cell_type": "code",
      "execution_count": 6,
      "metadata": {
        "id": "2sM1dLQXc9Dq"
      },
      "outputs": [],
      "source": [
        "omega = np.arange(0.1,2.0,0.1)\n",
        "its = []"
      ]
    },
    {
      "cell_type": "code",
      "execution_count": 7,
      "metadata": {
        "colab": {
          "base_uri": "https://localhost:8080/"
        },
        "id": "RqYAuPLbdfLH",
        "outputId": "6d3874d5-64f6-4682-f49e-71148112dd46"
      },
      "outputs": [
        {
          "name": "stdout",
          "output_type": "stream",
          "text": [
            "585\n",
            "345\n",
            "243\n",
            "185\n",
            "147\n",
            "120\n",
            "99\n",
            "83\n",
            "69\n",
            "58\n",
            "49\n",
            "40\n",
            "33\n",
            "25\n",
            "18\n",
            "19\n",
            "19\n",
            "32\n",
            "64\n"
          ]
        }
      ],
      "source": [
        "for val in omega:\n",
        "  T = InitT()\n",
        "  Tf1,ite =  GetRelaxation(T, omega=val)\n",
        "\n",
        "  its.append(ite)"
      ]
    },
    {
      "cell_type": "code",
      "execution_count": 8,
      "metadata": {
        "colab": {
          "base_uri": "https://localhost:8080/",
          "height": 280
        },
        "id": "O9wOiywXdy8z",
        "outputId": "13e836d1-9405-4ce5-c570-6f40c1a624de"
      },
      "outputs": [
        {
          "data": {
            "image/png": "[encoded data removed]",
            "text/plain": [
              "<Figure size 432x288 with 1 Axes>"
            ]
          },
          "metadata": {
            "needs_background": "light"
          },
          "output_type": "display_data"
        }
      ],
      "source": [
        "plt.plot(omega, its)\n",
        "plt.xlabel('Parámetro de relajación')\n",
        "plt.ylabel('Iteraciones')\n",
        "plt.show()"
      ]
    },
    {
      "cell_type": "code",
      "execution_count": 9,
      "metadata": {
        "colab": {
          "base_uri": "https://localhost:8080/"
        },
        "id": "HW8Y2iTFeaNi",
        "outputId": "65e2fb01-972d-4173-8609-2db11e076afd"
      },
      "outputs": [
        {
          "data": {
            "text/plain": [
              "array([0.1, 0.2, 0.3, 0.4, 0.5, 0.6, 0.7, 0.8, 0.9, 1. , 1.1, 1.2, 1.3,\n",
              "       1.4, 1.5, 1.6, 1.7, 1.8, 1.9])"
            ]
          },
          "execution_count": 9,
          "metadata": {},
          "output_type": "execute_result"
        }
      ],
      "source": [
        "omega"
      ]
    },
    {
      "cell_type": "markdown",
      "metadata": {
        "id": "0x7XTegmfkLj"
      },
      "source": [
        "El parámetro óptimo es cercano a 1.5\n",
        "\n",
        "Para parámetros mayores o iguales a 2.0, el método de sobrerelajación no converge. Esto tiene que ver con el hecho de que un método iterativo (como el de sobrerelajación) converge si el radio espectral de la matriz asociada es menor a 1. Si el parámetro de sobrerelajación está fuera del intervalo $(0,2)$, el radio espectral supera 1 y por ende no converge."
      ]
    },
    {
      "cell_type": "code",
      "execution_count": 9,
      "metadata": {
        "id": "HYGNkcW5g0EO"
      },
      "outputs": [],
      "source": []
    }
  ],
  "metadata": {
    "colab": {
      "name": "SOR.ipynb",
      "provenance": []
    },
    "kernelspec": {
      "display_name": "Python 3",
      "name": "python3"
    },
    "language_info": {
      "name": "python"
    }
  },
  "nbformat": 4,
  "nbformat_minor": 0
}
