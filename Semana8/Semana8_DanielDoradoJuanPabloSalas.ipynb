{
 "cells": [
  {
   "cell_type": "code",
   "execution_count": null,
   "id": "f943d247",
   "metadata": {},
   "outputs": [],
   "source": []
  },
  {
   "cell_type": "markdown",
   "id": "768c4332",
   "metadata": {},
   "source": [
    "# 2D Navier-Stokes equations"
   ]
  },
  {
   "cell_type": "markdown",
   "id": "85df93df",
   "metadata": {},
   "source": [
    "Note que las primeras derivadas de una función de dos variables, $x,y$ están dadas por \n",
    "$$ \\frac{\\partial f}{\\partial x} = \\frac{f(x+h,y)-f(x,y)}{h} = \\frac{f_{i+1,j}-f_{i,j}}{h} = \\frac{f_{i+1,j}-f_{i-1,j}}{2h} $$\n",
    "$$ \\frac{\\partial f}{\\partial y} = \\frac{f(x,y+h)-f(x,y)}{h} = \\frac{f_{i,j+1}-f_{i,j}}{h} = \\frac{f_{i,j+1}-f_{i,j-1}}{2h} $$\n",
    "$$ \\frac{\\partial^2 f}{\\partial x^2} = \\frac{f(x-h,y)-2f(x,y)+f(x+h,y}{h^2} = \\frac{f_{i-1,j}-2f_{i,j}+f_{i+1,j}}{h^2}$$\n",
    "$$ \\frac{\\partial^2 f}{\\partial y^2} = \\frac{f(x,y-h)-2f(x,y)+f(x,y+h}{h^2} = \\frac{f_{i,j-1}-2f_{i,j}+f_{i,j-1}}{h^2}$$"
   ]
  },
  {
   "cell_type": "markdown",
   "id": "d1ecaa87",
   "metadata": {},
   "source": [
    "Buscamos resolver las siguientes ecuaciones diferenciales para $u(x,y), w(x,y)$\n",
    "$$-w = \\frac{\\partial^2 u}{\\partial x^2} + \\frac{\\partial^2 u}{\\partial ^2 y}$$\n",
    "$$\\nu \\left( \\frac{\\partial^2 w}{\\partial x^2} + \\frac{\\partial^2 w}{\\partial ^2 y} \\right) =\\frac{\\partial u}{\\partial y} \\frac{\\partial w}{\\partial x} - \\frac{\\partial u}{\\partial x}\\frac{\\partial w}{\\partial y} $$\n",
    "Utilizando el método de diferencias finitas esto queda igual a \n",
    "\n",
    "$$-w_{i,j} = \\frac{u_{i-1,j}-2u_{i,j}+u_{i+1,j}}{h^2} + \\frac{u_{i,j-1}-2u_{ij}+u_{i,j+1}}{h^2} = \\frac{u_{i-1,j}+u_{i+1,j}+u_{i,j-1}+u_{i,j+1}-4u_{i,j}}{h^2} $$\n",
    "\n",
    "$$\\nu \\left( \\frac{w_{i-1,j}+w_{i+1,j}+w_{i,j-1}+w_{i,j+1}-4w_{i,j}}{h^2} \\right) = \\frac{u_{i,j+1}-u_{i,j-1}}{2h} \\frac{w_{i+1,j}-w_{i-1,j}}{2h}  - \\frac{u_{i+1,j}-u_{i-1,j}}{2h}\\frac{w_{i,j+1}-w_{i,j-1}}{2h} $$\n"
   ]
  },
  {
   "cell_type": "markdown",
   "id": "b255d8ef",
   "metadata": {},
   "source": [
    "De esta primera ecuación se obtiene\n",
    "\n",
    "$$ u_{i,j} = \\frac{1}{4} \\left(u_{i-1,j}+u_{i+1,j}+u_{i,j-1}+u_{i,j+1} + h^2 w_{i,j} \\right) $$\n",
    "De la segunda se tiene,\n",
    "$$ w_{i,j} = \\frac{1}{4} \\left(w_{i-1,j}+w_{i+1,j}+w_{i,j-1}+w_{i,j+1} \\right) - \\frac{1}{16 \\nu} (u_{i,j+1}-u_{i,j-1})(w_{i+1,j}-w_{i-1,j}) +  \\frac{1}{16 \\nu}(u_{i+1,j}-u_{i-1,j})(w_{i,j+1}-w_{i,j-1}) $$\n",
    "Donde, en unidades normales se tiene que $R= \\frac{1}{\\nu} = \\frac{V_0 h}{\\nu}$"
   ]
  },
  {
   "cell_type": "code",
   "execution_count": null,
   "id": "77944735",
   "metadata": {},
   "outputs": [],
   "source": []
  }
 ],
 "metadata": {
  "kernelspec": {
   "display_name": "Python 3 (ipykernel)",
   "language": "python",
   "name": "python3"
  },
  "language_info": {
   "codemirror_mode": {
    "name": "ipython",
    "version": 3
   },
   "file_extension": ".py",
   "mimetype": "text/x-python",
   "name": "python",
   "nbconvert_exporter": "python",
   "pygments_lexer": "ipython3",
   "version": "3.9.7"
  }
 },
 "nbformat": 4,
 "nbformat_minor": 5
}
