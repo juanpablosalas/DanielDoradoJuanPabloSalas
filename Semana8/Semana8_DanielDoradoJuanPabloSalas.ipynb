{
 "cells": [
  {
   "cell_type": "code",
   "execution_count": null,
   "id": "d178770b",
   "metadata": {},
   "outputs": [],
   "source": []
  },
  {
   "cell_type": "markdown",
   "id": "2d94daa9",
   "metadata": {},
   "source": [
    "# 2D Navier-Stokes equations"
   ]
  },
  {
   "cell_type": "markdown",
   "id": "e05db625",
   "metadata": {},
   "source": [
    "Note que las primeras derivadas de una función de dos variables, $x,y$ están dadas por \n",
    "$$ \\frac{\\partial f}{\\partial x} = \\frac{f(x+h,y)-f(x,y)}{h} = \\frac{f_{i+1,j}-f_{i,j}}{h} $$\n",
    "$$ \\frac{\\partial f}{\\partial y} = \\frac{f(x,y+h)-f(x,y)}{h} = \\frac{f_{i,j+1}-f_{i,j}}{h} $$\n",
    "$$ \\frac{\\partial^2 f}{\\partial x^2} = \\frac{f(x-h,y)-2f(x,y)+f(x+h,y}{h^2} = \\frac{f_{i-1,j}-2f_{i,j}+f_{i+1,j}}{h^2}$$\n",
    "$$ \\frac{\\partial^2 f}{\\partial y^2} = \\frac{f(x,y-h)-2f(x,y)+f(x,y+h}{h^2} = \\frac{f_{i,j-1}-2f_{i,j}+f_{i,j-1}}{h^2}$$"
   ]
  },
  {
   "cell_type": "code",
   "execution_count": null,
   "id": "bb8ee2eb",
   "metadata": {},
   "outputs": [],
   "source": []
  }
 ],
 "metadata": {
  "kernelspec": {
   "display_name": "Python 3 (ipykernel)",
   "language": "python",
   "name": "python3"
  },
  "language_info": {
   "codemirror_mode": {
    "name": "ipython",
    "version": 3
   },
   "file_extension": ".py",
   "mimetype": "text/x-python",
   "name": "python",
   "nbconvert_exporter": "python",
   "pygments_lexer": "ipython3",
   "version": "3.9.7"
  }
 },
 "nbformat": 4,
 "nbformat_minor": 5
}
