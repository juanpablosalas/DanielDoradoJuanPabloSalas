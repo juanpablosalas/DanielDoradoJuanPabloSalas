{
 "cells": [
  {
   "cell_type": "code",
   "execution_count": null,
   "id": "6c8809e5",
   "metadata": {},
   "outputs": [],
   "source": [
    "%matplotlib notebook\n",
    "import numpy as np\n",
    "import matplotlib.pyplot as plt\n",
    "from matplotlib import rc\n",
    "from matplotlib import cm\n",
    "from mpl_toolkits.mplot3d import axes3d\n",
    "import sympy as sym"
   ]
  },
  {
   "cell_type": "markdown",
   "id": "fd905688",
   "metadata": {},
   "source": [
    "# 2D Navier-Stokes equations"
   ]
  },
  {
   "cell_type": "markdown",
   "id": "caea0660",
   "metadata": {},
   "source": [
    "Note que las primeras derivadas de una función de dos variables, $x,y$ están dadas por \n",
    "$$ \\frac{\\partial f}{\\partial x} = \\frac{f(x+h,y)-f(x,y)}{h} = \\frac{f_{i+1,j}-f_{i,j}}{h} = \\frac{f_{i+1,j}-f_{i-1,j}}{2h} $$\n",
    "$$ \\frac{\\partial f}{\\partial y} = \\frac{f(x,y+h)-f(x,y)}{h} = \\frac{f_{i,j+1}-f_{i,j}}{h} = \\frac{f_{i,j+1}-f_{i,j-1}}{2h} $$\n",
    "$$ \\frac{\\partial^2 f}{\\partial x^2} = \\frac{f(x-h,y)-2f(x,y)+f(x+h,y)}{h^2} = \\frac{f_{i-1,j}-2f_{i,j}+f_{i+1,j}}{h^2}$$\n",
    "$$ \\frac{\\partial^2 f}{\\partial y^2} = \\frac{f(x,y-h)-2f(x,y)+f(x,y+h)}{h^2} = \\frac{f_{i,j-1}-2f_{i,j}+f_{i,j-1}}{h^2}$$"
   ]
  },
  {
   "cell_type": "markdown",
   "id": "913949c6",
   "metadata": {},
   "source": [
    "Buscamos resolver las siguientes ecuaciones diferenciales para $u(x,y), w(x,y)$\n",
    "$$-w = \\frac{\\partial^2 u}{\\partial x^2} + \\frac{\\partial^2 u}{\\partial ^2 y}$$\n",
    "$$\\nu \\left( \\frac{\\partial^2 w}{\\partial x^2} + \\frac{\\partial^2 w}{\\partial ^2 y} \\right) =\\frac{\\partial u}{\\partial y} \\frac{\\partial w}{\\partial x} - \\frac{\\partial u}{\\partial x}\\frac{\\partial w}{\\partial y} $$\n",
    "Utilizando el método de diferencias finitas esto queda igual a \n",
    "\n",
    "$$-w_{i,j} = \\frac{u_{i-1,j}-2u_{i,j}+u_{i+1,j}}{h^2} + \\frac{u_{i,j-1}-2u_{ij}+u_{i,j+1}}{h^2} = \\frac{u_{i-1,j}+u_{i+1,j}+u_{i,j-1}+u_{i,j+1}-4u_{i,j}}{h^2} $$\n",
    "\n",
    "$$\\nu \\left( \\frac{w_{i-1,j}+w_{i+1,j}+w_{i,j-1}+w_{i,j+1}-4w_{i,j}}{h^2} \\right) = \\frac{u_{i,j+1}-u_{i,j-1}}{2h} \\frac{w_{i+1,j}-w_{i-1,j}}{2h}  - \\frac{u_{i+1,j}-u_{i-1,j}}{2h}\\frac{w_{i,j+1}-w_{i,j-1}}{2h} $$\n"
   ]
  },
  {
   "cell_type": "markdown",
   "id": "49c295a7",
   "metadata": {},
   "source": [
    "De esta primera ecuación se obtiene\n",
    "\n",
    "$$ u_{i,j} = \\frac{1}{4} \\left(u_{i-1,j}+u_{i+1,j}+u_{i,j-1}+u_{i,j+1} + h^2 w_{i,j} \\right) $$\n",
    "De la segunda se tiene,\n",
    "$$ w_{i,j} = \\frac{1}{4} \\left(w_{i-1,j}+w_{i+1,j}+w_{i,j-1}+w_{i,j+1} \\right) - \\frac{1}{16 \\nu} (u_{i,j+1}-u_{i,j-1})(w_{i+1,j}-w_{i-1,j}) +  \\frac{1}{16 \\nu}(u_{i+1,j}-u_{i-1,j})(w_{i,j+1}-w_{i,j-1}) $$\n",
    "Donde, en unidades normales se tiene que $R= \\frac{1}{\\nu} = \\frac{V_0 h}{\\nu}$"
   ]
  },
  {
   "cell_type": "markdown",
   "id": "eb266dba",
   "metadata": {},
   "source": [
    "# Condiciones a la frontera"
   ]
  },
  {
   "cell_type": "markdown",
   "id": "0cf25c9a",
   "metadata": {},
   "source": [
    "En esta ocasión, se tratará un obstáculo rectangular entre $x_1$ y $x_2$ y $y_1$ y $y_2$. Consideremos lo que pasa a lo largo de sus extremos verticales, es decir en $x=x_1, x=x_2$. La vorticidad está dada por \n",
    "$$w = \\frac{\\partial v_y}{\\partial x} -\\frac{\\partial v_x}{\\partial y} $$\n",
    "Sin embargo, como $x$ es constante se tendrá que \n",
    "$$w = -\\frac{\\partial v_x}{\\partial y} = - \\frac{\\partial^2 u}{\\partial y^2}$$\n",
    "Note tambien que por la serie de Taylor se tiene \n",
    "$$u(x,y+h) = u(x,y) + \\frac{\\partial u}{\\partial y}(x,y) h + \\frac{\\partial^2 u}{\\partial y^2}(x,y) \\frac{h^2}{2}$$\n",
    "Adicionalmente se tiene que la velocidad en la parte superior del obstáculo será nula, es decir\n",
    "\n",
    "$$v_x = 0 = \\frac{\\partial u}{\\partial y}$$\n",
    "Todo esto permite simplificar la segunda derivada como\n",
    "\n",
    "$$\\frac{\\partial^2 u}{\\partial y^2} =  \\frac{2}{h^2} \\left( u(x,y+h) - u(x,y) \\right) = 2 \\frac{u_{i,j+1}-u_{i,j}}{h^2}$$\n",
    "Haciendo un análisis similar para el otro lado del obstáculo se tiene\n",
    "\n",
    "**Derecha:** $w_{i,j} = - 2 \\frac{u_{i,j+1}-u_{i,j}}{h^2}$\n",
    "\n",
    "**Izquierda:** $w_{i,j} = - 2 \\frac{u_{i,j-1}-u_{i,j}}{h^2}$"
   ]
  },
  {
   "cell_type": "code",
   "execution_count": null,
   "id": "cc307aeb",
   "metadata": {},
   "outputs": [],
   "source": [
    "V0 = 1\n",
    "nu = 0.2"
   ]
  }
 ],
 "metadata": {
  "kernelspec": {
   "display_name": "Python 3 (ipykernel)",
   "language": "python",
   "name": "python3"
  },
  "language_info": {
   "codemirror_mode": {
    "name": "ipython",
    "version": 3
   },
   "file_extension": ".py",
   "mimetype": "text/x-python",
   "name": "python",
   "nbconvert_exporter": "python",
   "pygments_lexer": "ipython3",
   "version": "3.9.7"
  }
 },
 "nbformat": 4,
 "nbformat_minor": 5
}
